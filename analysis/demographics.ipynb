{
 "cells": [
  {
   "cell_type": "code",
   "execution_count": 1,
   "metadata": {},
   "outputs": [
    {
     "name": "stderr",
     "output_type": "stream",
     "text": [
      "/var/folders/k9/j4977wt918z9ns7wk6kqfmqm0000gn/T/ipykernel_59085/1527538389.py:7: DtypeWarning: Columns (349,351) have mixed types. Specify dtype option on import or set low_memory=False.\n",
      "  df = pd.read_csv('/Users/carterhogan/CaseStudies/world_value_survey/analysis/data/wvs/wave7.csv')\n"
     ]
    }
   ],
   "source": [
    "\n",
    "import pandas as pd\n",
    "import os\n",
    "import matplotlib.pyplot as plt\n",
    "import numpy as np\n",
    "import sklearn\n",
    "from sklearn.preprocessing import MinMaxScaler\n",
    "df = pd.read_csv('/Users/carterhogan/CaseStudies/world_value_survey/analysis/data/wvs/wave7.csv')"
   ]
  },
  {
   "cell_type": "code",
   "execution_count": 4,
   "metadata": {},
   "outputs": [
    {
     "data": {
      "text/plain": [
       "array([2, 1])"
      ]
     },
     "execution_count": 4,
     "metadata": {},
     "output_type": "execute_result"
    }
   ],
   "source": [
    "df = df[df[\"Q260\"]>0]\n",
    "df['Q260'].unique()"
   ]
  },
  {
   "cell_type": "code",
   "execution_count": 5,
   "metadata": {},
   "outputs": [],
   "source": [
    "# 1 is male 2 is female\n",
    "df['gender'] = df['Q260'].map({'1': 1, '2': 0})"
   ]
  },
  {
   "cell_type": "code",
   "execution_count": 10,
   "metadata": {},
   "outputs": [],
   "source": [
    "\n",
    "df['Q262'].isna().sum()\n",
    "\n",
    "df = df[df[\"Q262\"]>0]\n",
    "\n",
    "df[\"age\"] = df[\"Q262\"]"
   ]
  },
  {
   "cell_type": "code",
   "execution_count": 13,
   "metadata": {},
   "outputs": [],
   "source": [
    "df = df[(df[\"Q263\"]>0) & (df[\"Q264\"]>0)&(df[\"Q265\"]>0)]\n",
    "\n",
    "df[\"mother_immigrant\"]=df['Q263'].map({'1': 0, '2': 1})\n",
    "df[\"father_immigrant\"]=df['Q264'].map({'1': 0, '2': 1})\n",
    "df[\"is_immigrant\"]=df['Q265'].map({'1': 0, '2': 1})"
   ]
  },
  {
   "cell_type": "code",
   "execution_count": null,
   "metadata": {},
   "outputs": [],
   "source": [
    "def transform_demographcis(df: pd.DataFrame) -> pd.DataFrame:\n",
    "    \n",
    "    # must have valid gender value\n",
    "    df = df[df[\"Q260\"]>0]\n",
    "    # 1 is male 2 is female\n",
    "    df['gender'] = df['Q260'].map({'1': 1, '2': 0})\n",
    "    # must have valid age\n",
    "    df = df[df[\"Q262\"]>0]\n",
    "\n",
    "    df[\"age\"] = df[\"Q262\"]\n",
    "    # must have valid values about parental and individual immigration status\n",
    "    df = df[(df[\"Q263\"]>0) & (df[\"Q264\"]>0)&(df[\"Q265\"]>0)]\n",
    "    # create binary variables for immigration status of family and self\n",
    "    df[\"mother_immigrant\"]=df['Q263'].map({'1': 0, '2': 1})\n",
    "    df[\"father_immigrant\"]=df['Q264'].map({'1': 0, '2': 1})\n",
    "    df[\"is_immigrant\"]=df['Q265'].map({'1': 0, '2': 1})\n",
    "\n",
    "    return df\n",
    "\n",
    "    \n",
    "    "
   ]
  }
 ],
 "metadata": {
  "kernelspec": {
   "display_name": "world_value",
   "language": "python",
   "name": "python3"
  },
  "language_info": {
   "codemirror_mode": {
    "name": "ipython",
    "version": 3
   },
   "file_extension": ".py",
   "mimetype": "text/x-python",
   "name": "python",
   "nbconvert_exporter": "python",
   "pygments_lexer": "ipython3",
   "version": "3.12.0"
  }
 },
 "nbformat": 4,
 "nbformat_minor": 2
}
