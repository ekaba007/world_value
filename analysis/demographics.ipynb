{
 "cells": [
  {
   "cell_type": "code",
   "execution_count": 48,
   "metadata": {},
   "outputs": [
    {
     "name": "stderr",
     "output_type": "stream",
     "text": [
      "/var/folders/k9/j4977wt918z9ns7wk6kqfmqm0000gn/T/ipykernel_9640/1709662839.py:7: DtypeWarning: Columns (346,348,350,580,581,582,583) have mixed types. Specify dtype option on import or set low_memory=False.\n",
      "  df = pd.read_csv('/Users/carterhogan/CaseStudies/world_value_survey/analysis/data/wvs/WVS_Cross_National.csv')\n"
     ]
    }
   ],
   "source": [
    "\n",
    "import pandas as pd\n",
    "import os\n",
    "import matplotlib.pyplot as plt\n",
    "import numpy as np\n",
    "import sklearn\n",
    "from sklearn.preprocessing import MinMaxScaler\n",
    "df = pd.read_csv('/Users/carterhogan/CaseStudies/world_value_survey/analysis/data/wvs/WVS_Cross_National.csv')"
   ]
  },
  {
   "cell_type": "code",
   "execution_count": 15,
   "metadata": {},
   "outputs": [
    {
     "name": "stdout",
     "output_type": "stream",
     "text": [
      "Count of values less than 1 in column 1: 511\n"
     ]
    }
   ],
   "source": [
    "column_index = 1\n",
    "column_values = df[\"Q262\"]\n",
    "\n",
    "# Count values less than 1 in the selected column\n",
    "count = sum(1 for value in column_values if value < 0)\n",
    "\n",
    "# Output the result\n",
    "print(f\"Count of values less than 1 in column {column_index}:\", count)"
   ]
  },
  {
   "cell_type": "code",
   "execution_count": 17,
   "metadata": {},
   "outputs": [
    {
     "data": {
      "text/plain": [
       "array([2, 1])"
      ]
     },
     "execution_count": 17,
     "metadata": {},
     "output_type": "execute_result"
    }
   ],
   "source": [
    "df = df[df[\"Q260\"]>0]\n",
    "df['Q260'].unique()"
   ]
  },
  {
   "cell_type": "code",
   "execution_count": 22,
   "metadata": {},
   "outputs": [],
   "source": [
    "\n",
    "df = df.copy()  # Ensures you're working on a full DataFrame, not a slice\n",
    "df['gender'] = df['Q260'].map({1: 1, 2: 0})# 1 is male 2 is female\n",
    "\n",
    "\n"
   ]
  },
  {
   "cell_type": "code",
   "execution_count": 23,
   "metadata": {},
   "outputs": [
    {
     "data": {
      "text/plain": [
       "0        0\n",
       "1        1\n",
       "2        1\n",
       "3        0\n",
       "4        1\n",
       "        ..\n",
       "97215    0\n",
       "97216    1\n",
       "97217    0\n",
       "97218    0\n",
       "97219    1\n",
       "Name: gender, Length: 97125, dtype: int64"
      ]
     },
     "execution_count": 23,
     "metadata": {},
     "output_type": "execute_result"
    }
   ],
   "source": [
    "df['gender']"
   ]
  },
  {
   "cell_type": "code",
   "execution_count": 49,
   "metadata": {},
   "outputs": [],
   "source": [
    "countries = ['AUS','CAN','GBR','DEU','NLD','USA']\n",
    "df = df[df['B_COUNTRY_ALPHA'].isin(countries)]"
   ]
  },
  {
   "cell_type": "code",
   "execution_count": 50,
   "metadata": {},
   "outputs": [
    {
     "data": {
      "text/plain": [
       "array(['AUS', 'CAN', 'DEU', 'GBR', 'NLD', 'USA'], dtype=object)"
      ]
     },
     "execution_count": 50,
     "metadata": {},
     "output_type": "execute_result"
    }
   ],
   "source": [
    "df['B_COUNTRY_ALPHA'].unique()"
   ]
  },
  {
   "cell_type": "code",
   "execution_count": 26,
   "metadata": {},
   "outputs": [
    {
     "name": "stderr",
     "output_type": "stream",
     "text": [
      "/var/folders/k9/j4977wt918z9ns7wk6kqfmqm0000gn/T/ipykernel_9640/3599717091.py:5: SettingWithCopyWarning: \n",
      "A value is trying to be set on a copy of a slice from a DataFrame.\n",
      "Try using .loc[row_indexer,col_indexer] = value instead\n",
      "\n",
      "See the caveats in the documentation: https://pandas.pydata.org/pandas-docs/stable/user_guide/indexing.html#returning-a-view-versus-a-copy\n",
      "  df[\"age\"] = df[\"Q262\"]\n"
     ]
    }
   ],
   "source": [
    "\n",
    "df['Q262'].isna().sum()\n",
    "\n",
    "df = df[df[\"Q262\"]>0]\n",
    "\n",
    "df[\"age\"] = df[\"Q262\"]\n",
    "\n"
   ]
  },
  {
   "cell_type": "code",
   "execution_count": 27,
   "metadata": {},
   "outputs": [
    {
     "data": {
      "text/plain": [
       "array([ 60,  47,  48,  62,  49,  51,  33,  55,  40,  38,  54,  39,  44,\n",
       "        53,  43,  21,  61,  30,  18,  63,  66,  70,  41,  58,  71,  29,\n",
       "        27,  26,  37,  32,  28,  35,  31,  57,  34,  22,  86,  72,  64,\n",
       "        52,  68,  36,  46,  42,  20,  50,  75,  56,  83,  67,  45,  59,\n",
       "        24,  79,  90,  69,  65,  23,  74,  78,  73,  25,  77,  80,  85,\n",
       "        81,  87,  19,  82,  88,  76,  84,  92,  93,  91,  89,  94,  17,\n",
       "        98,  96,  95,  99,  16, 100, 103])"
      ]
     },
     "execution_count": 27,
     "metadata": {},
     "output_type": "execute_result"
    }
   ],
   "source": [
    "df['age'].unique()"
   ]
  },
  {
   "cell_type": "code",
   "execution_count": 28,
   "metadata": {},
   "outputs": [],
   "source": [
    "df = df[(df[\"Q263\"]>0) & (df[\"Q264\"]>0)&(df[\"Q265\"]>0)]\n",
    "\n",
    "df[\"mother_immigrant\"]=df['Q263'].map({'1': 0, '2': 1})\n",
    "df[\"father_immigrant\"]=df['Q264'].map({'1': 0, '2': 1})\n",
    "df[\"is_immigrant\"]=df['Q265'].map({'1': 0, '2': 1})"
   ]
  },
  {
   "cell_type": "code",
   "execution_count": null,
   "metadata": {},
   "outputs": [],
   "source": [
    "def transform_demographcis(df: pd.DataFrame) -> pd.DataFrame:\n",
    "    \n",
    "    # must have valid gender value\n",
    "    df = df[df[\"Q260\"]>0]\n",
    "    # 1 is male 2 is female\n",
    "    df['gender'] = df['Q260'].map({'1': 1, '2': 0})\n",
    "    # must have valid age\n",
    "    df = df[df[\"Q262\"]>0]\n",
    "\n",
    "    df[\"age\"] = df[\"Q262\"]\n",
    "    # must have valid values about parental and individual immigration status\n",
    "    df = df[(df[\"Q263\"]>0) & (df[\"Q264\"]>0)&(df[\"Q265\"]>0)]\n",
    "    # create binary variables for immigration status of family and self\n",
    "    df[\"mother_immigrant\"]=df['Q263'].map({'1': 0, '2': 1})\n",
    "    df[\"father_immigrant\"]=df['Q264'].map({'1': 0, '2': 1})\n",
    "    df[\"is_immigrant\"]=df['Q265'].map({'1': 0, '2': 1})\n",
    "\n",
    "    return df\n",
    "\n",
    "    \n",
    "    "
   ]
  }
 ],
 "metadata": {
  "kernelspec": {
   "display_name": "world_value",
   "language": "python",
   "name": "python3"
  },
  "language_info": {
   "codemirror_mode": {
    "name": "ipython",
    "version": 3
   },
   "file_extension": ".py",
   "mimetype": "text/x-python",
   "name": "python",
   "nbconvert_exporter": "python",
   "pygments_lexer": "ipython3",
   "version": "3.12.0"
  }
 },
 "nbformat": 4,
 "nbformat_minor": 2
}
