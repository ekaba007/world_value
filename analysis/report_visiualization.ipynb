{
 "cells": [
  {
   "cell_type": "code",
   "execution_count": 1,
   "metadata": {},
   "outputs": [],
   "source": [
    "import seaborn as sns\n",
    "import pandas as pd\n",
    "import matplotlib.pyplot as plt"
   ]
  },
  {
   "cell_type": "code",
   "execution_count": 2,
   "metadata": {},
   "outputs": [
    {
     "name": "stderr",
     "output_type": "stream",
     "text": [
      "/var/folders/k9/j4977wt918z9ns7wk6kqfmqm0000gn/T/ipykernel_40504/977383760.py:1: DtypeWarning: Columns (582,583,584) have mixed types. Specify dtype option on import or set low_memory=False.\n",
      "  df = pd.read_csv(\"./data/wvs/wave7.csv\")\n"
     ]
    },
    {
     "data": {
      "application/vnd.microsoft.datawrangler.viewer.v0+json": {
       "columns": [
        {
         "name": "index",
         "rawType": "int64",
         "type": "integer"
        },
        {
         "name": "Unnamed: 0",
         "rawType": "int64",
         "type": "integer"
        },
        {
         "name": "version",
         "rawType": "object",
         "type": "string"
        },
        {
         "name": "doi",
         "rawType": "object",
         "type": "string"
        },
        {
         "name": "A_WAVE",
         "rawType": "int64",
         "type": "integer"
        },
        {
         "name": "A_YEAR",
         "rawType": "int64",
         "type": "integer"
        },
        {
         "name": "A_STUDY",
         "rawType": "int64",
         "type": "integer"
        },
        {
         "name": "B_COUNTRY",
         "rawType": "int64",
         "type": "integer"
        },
        {
         "name": "B_COUNTRY_ALPHA",
         "rawType": "object",
         "type": "string"
        },
        {
         "name": "C_COW_NUM",
         "rawType": "int64",
         "type": "integer"
        },
        {
         "name": "C_COW_ALPHA",
         "rawType": "object",
         "type": "string"
        },
        {
         "name": "D_INTERVIEW",
         "rawType": "int64",
         "type": "integer"
        },
        {
         "name": "S007",
         "rawType": "int64",
         "type": "integer"
        },
        {
         "name": "J_INTDATE",
         "rawType": "int64",
         "type": "integer"
        },
        {
         "name": "FW_START",
         "rawType": "int64",
         "type": "integer"
        },
        {
         "name": "FW_END",
         "rawType": "int64",
         "type": "integer"
        },
        {
         "name": "K_TIME_START",
         "rawType": "float64",
         "type": "float"
        },
        {
         "name": "K_TIME_END",
         "rawType": "float64",
         "type": "float"
        },
        {
         "name": "K_DURATION",
         "rawType": "int64",
         "type": "integer"
        },
        {
         "name": "Q_MODE",
         "rawType": "int64",
         "type": "integer"
        },
        {
         "name": "N_REGION_ISO",
         "rawType": "int64",
         "type": "integer"
        },
        {
         "name": "N_REGION_WVS",
         "rawType": "int64",
         "type": "integer"
        },
        {
         "name": "N_REGION_NUTS2",
         "rawType": "int64",
         "type": "integer"
        },
        {
         "name": "N_REG_NUTS1",
         "rawType": "int64",
         "type": "integer"
        },
        {
         "name": "N_TOWN",
         "rawType": "float64",
         "type": "float"
        },
        {
         "name": "G_TOWNSIZE",
         "rawType": "int64",
         "type": "integer"
        },
        {
         "name": "G_TOWNSIZE2",
         "rawType": "int64",
         "type": "integer"
        },
        {
         "name": "H_SETTLEMENT",
         "rawType": "int64",
         "type": "integer"
        },
        {
         "name": "H_URBRURAL",
         "rawType": "int64",
         "type": "integer"
        },
        {
         "name": "I_PSU",
         "rawType": "int64",
         "type": "integer"
        },
        {
         "name": "O1_LONGITUDE",
         "rawType": "float64",
         "type": "float"
        },
        {
         "name": "O2_LATITUDE",
         "rawType": "float64",
         "type": "float"
        },
        {
         "name": "L_INTERVIEWER_NUMBER",
         "rawType": "int64",
         "type": "integer"
        },
        {
         "name": "S_INTLANGUAGE",
         "rawType": "int64",
         "type": "integer"
        },
        {
         "name": "LNGE_ISO",
         "rawType": "object",
         "type": "string"
        },
        {
         "name": "E_RESPINT",
         "rawType": "int64",
         "type": "integer"
        },
        {
         "name": "F_INTPRIVACY",
         "rawType": "int64",
         "type": "integer"
        },
        {
         "name": "E1_LITERACY",
         "rawType": "int64",
         "type": "integer"
        },
        {
         "name": "W_WEIGHT",
         "rawType": "float64",
         "type": "float"
        },
        {
         "name": "S018",
         "rawType": "float64",
         "type": "float"
        },
        {
         "name": "PWGHT",
         "rawType": "float64",
         "type": "float"
        },
        {
         "name": "S025",
         "rawType": "int64",
         "type": "integer"
        },
        {
         "name": "Q1",
         "rawType": "int64",
         "type": "integer"
        },
        {
         "name": "Q2",
         "rawType": "int64",
         "type": "integer"
        },
        {
         "name": "Q3",
         "rawType": "int64",
         "type": "integer"
        },
        {
         "name": "Q4",
         "rawType": "int64",
         "type": "integer"
        },
        {
         "name": "Q5",
         "rawType": "int64",
         "type": "integer"
        },
        {
         "name": "Q6",
         "rawType": "int64",
         "type": "integer"
        },
        {
         "name": "Q7",
         "rawType": "int64",
         "type": "integer"
        },
        {
         "name": "Q8",
         "rawType": "int64",
         "type": "integer"
        },
        {
         "name": "Q9",
         "rawType": "int64",
         "type": "integer"
        },
        {
         "name": "Q10",
         "rawType": "int64",
         "type": "integer"
        },
        {
         "name": "Q11",
         "rawType": "int64",
         "type": "integer"
        },
        {
         "name": "Q12",
         "rawType": "int64",
         "type": "integer"
        },
        {
         "name": "Q13",
         "rawType": "int64",
         "type": "integer"
        },
        {
         "name": "Q14",
         "rawType": "int64",
         "type": "integer"
        },
        {
         "name": "Q15",
         "rawType": "int64",
         "type": "integer"
        },
        {
         "name": "Q16",
         "rawType": "int64",
         "type": "integer"
        },
        {
         "name": "Q17",
         "rawType": "int64",
         "type": "integer"
        },
        {
         "name": "Q18",
         "rawType": "int64",
         "type": "integer"
        },
        {
         "name": "Q19",
         "rawType": "int64",
         "type": "integer"
        },
        {
         "name": "Q20",
         "rawType": "int64",
         "type": "integer"
        },
        {
         "name": "Q21",
         "rawType": "int64",
         "type": "integer"
        },
        {
         "name": "Q22",
         "rawType": "int64",
         "type": "integer"
        },
        {
         "name": "Q23",
         "rawType": "int64",
         "type": "integer"
        },
        {
         "name": "Q24",
         "rawType": "int64",
         "type": "integer"
        },
        {
         "name": "Q25",
         "rawType": "int64",
         "type": "integer"
        },
        {
         "name": "Q26",
         "rawType": "int64",
         "type": "integer"
        },
        {
         "name": "Q27",
         "rawType": "int64",
         "type": "integer"
        },
        {
         "name": "Q28",
         "rawType": "int64",
         "type": "integer"
        },
        {
         "name": "Q29",
         "rawType": "int64",
         "type": "integer"
        },
        {
         "name": "Q30",
         "rawType": "int64",
         "type": "integer"
        },
        {
         "name": "Q31",
         "rawType": "int64",
         "type": "integer"
        },
        {
         "name": "Q32",
         "rawType": "int64",
         "type": "integer"
        },
        {
         "name": "Q33",
         "rawType": "int64",
         "type": "integer"
        },
        {
         "name": "Q33_3",
         "rawType": "int64",
         "type": "integer"
        },
        {
         "name": "Q34",
         "rawType": "int64",
         "type": "integer"
        },
        {
         "name": "Q34_3",
         "rawType": "int64",
         "type": "integer"
        },
        {
         "name": "Q35",
         "rawType": "int64",
         "type": "integer"
        },
        {
         "name": "Q35_3",
         "rawType": "int64",
         "type": "integer"
        },
        {
         "name": "Q36",
         "rawType": "int64",
         "type": "integer"
        },
        {
         "name": "Q37",
         "rawType": "int64",
         "type": "integer"
        },
        {
         "name": "Q38",
         "rawType": "int64",
         "type": "integer"
        },
        {
         "name": "Q39",
         "rawType": "int64",
         "type": "integer"
        },
        {
         "name": "Q40",
         "rawType": "int64",
         "type": "integer"
        },
        {
         "name": "Q41",
         "rawType": "int64",
         "type": "integer"
        },
        {
         "name": "Q42",
         "rawType": "int64",
         "type": "integer"
        },
        {
         "name": "Q43",
         "rawType": "int64",
         "type": "integer"
        },
        {
         "name": "Q44",
         "rawType": "int64",
         "type": "integer"
        },
        {
         "name": "Q45",
         "rawType": "int64",
         "type": "integer"
        },
        {
         "name": "Q46",
         "rawType": "int64",
         "type": "integer"
        },
        {
         "name": "Q47",
         "rawType": "int64",
         "type": "integer"
        },
        {
         "name": "Q48",
         "rawType": "int64",
         "type": "integer"
        },
        {
         "name": "Q49",
         "rawType": "int64",
         "type": "integer"
        },
        {
         "name": "Q50",
         "rawType": "int64",
         "type": "integer"
        },
        {
         "name": "Q51",
         "rawType": "float64",
         "type": "float"
        },
        {
         "name": "Q52",
         "rawType": "float64",
         "type": "float"
        },
        {
         "name": "Q53",
         "rawType": "float64",
         "type": "float"
        },
        {
         "name": "Q54",
         "rawType": "float64",
         "type": "float"
        },
        {
         "name": "Q55",
         "rawType": "float64",
         "type": "float"
        },
        {
         "name": "Q56",
         "rawType": "float64",
         "type": "float"
        },
        {
         "name": "Q57",
         "rawType": "int64",
         "type": "integer"
        },
        {
         "name": "Q58",
         "rawType": "float64",
         "type": "float"
        },
        {
         "name": "Q59",
         "rawType": "float64",
         "type": "float"
        },
        {
         "name": "Q60",
         "rawType": "float64",
         "type": "float"
        },
        {
         "name": "Q61",
         "rawType": "float64",
         "type": "float"
        },
        {
         "name": "Q62",
         "rawType": "float64",
         "type": "float"
        },
        {
         "name": "Q63",
         "rawType": "float64",
         "type": "float"
        },
        {
         "name": "Q64",
         "rawType": "float64",
         "type": "float"
        },
        {
         "name": "Q65",
         "rawType": "float64",
         "type": "float"
        },
        {
         "name": "Q66",
         "rawType": "float64",
         "type": "float"
        },
        {
         "name": "Q67",
         "rawType": "float64",
         "type": "float"
        },
        {
         "name": "Q68",
         "rawType": "float64",
         "type": "float"
        },
        {
         "name": "Q69",
         "rawType": "float64",
         "type": "float"
        },
        {
         "name": "Q70",
         "rawType": "float64",
         "type": "float"
        },
        {
         "name": "Q71",
         "rawType": "float64",
         "type": "float"
        },
        {
         "name": "Q72",
         "rawType": "float64",
         "type": "float"
        },
        {
         "name": "Q73",
         "rawType": "float64",
         "type": "float"
        },
        {
         "name": "Q74",
         "rawType": "float64",
         "type": "float"
        },
        {
         "name": "Q75",
         "rawType": "float64",
         "type": "float"
        },
        {
         "name": "Q76",
         "rawType": "float64",
         "type": "float"
        },
        {
         "name": "Q77",
         "rawType": "float64",
         "type": "float"
        },
        {
         "name": "Q78",
         "rawType": "float64",
         "type": "float"
        },
        {
         "name": "Q79",
         "rawType": "float64",
         "type": "float"
        },
        {
         "name": "Q80",
         "rawType": "float64",
         "type": "float"
        },
        {
         "name": "Q81",
         "rawType": "float64",
         "type": "float"
        },
        {
         "name": "Q82",
         "rawType": "float64",
         "type": "float"
        },
        {
         "name": "Q82_AFRICANUNION",
         "rawType": "int64",
         "type": "integer"
        },
        {
         "name": "Q82_APEC",
         "rawType": "int64",
         "type": "integer"
        },
        {
         "name": "Q82_ARABLEAGUE",
         "rawType": "int64",
         "type": "integer"
        },
        {
         "name": "Q82_ASEAN",
         "rawType": "int64",
         "type": "integer"
        },
        {
         "name": "Q82_CIS",
         "rawType": "int64",
         "type": "integer"
        },
        {
         "name": "Q82_CUSMA",
         "rawType": "int64",
         "type": "integer"
        },
        {
         "name": "Q82_ECO",
         "rawType": "int64",
         "type": "integer"
        },
        {
         "name": "Q82_EU",
         "rawType": "int64",
         "type": "integer"
        },
        {
         "name": "Q82_GULFCOOP",
         "rawType": "int64",
         "type": "integer"
        },
        {
         "name": "Q82_ISLCOOP",
         "rawType": "int64",
         "type": "integer"
        },
        {
         "name": "Q82_MERCOSUR",
         "rawType": "int64",
         "type": "integer"
        },
        {
         "name": "Q82_NAFTA",
         "rawType": "int64",
         "type": "integer"
        },
        {
         "name": "Q82_OAS",
         "rawType": "int64",
         "type": "integer"
        },
        {
         "name": "Q82_SAARC",
         "rawType": "int64",
         "type": "integer"
        },
        {
         "name": "Q82_SCO",
         "rawType": "int64",
         "type": "integer"
        },
        {
         "name": "Q82_TLC",
         "rawType": "int64",
         "type": "integer"
        },
        {
         "name": "Q82_UNDP",
         "rawType": "int64",
         "type": "integer"
        },
        {
         "name": "Q83",
         "rawType": "float64",
         "type": "float"
        },
        {
         "name": "Q84",
         "rawType": "float64",
         "type": "float"
        },
        {
         "name": "Q85",
         "rawType": "float64",
         "type": "float"
        },
        {
         "name": "Q86",
         "rawType": "float64",
         "type": "float"
        },
        {
         "name": "Q87",
         "rawType": "float64",
         "type": "float"
        },
        {
         "name": "Q88",
         "rawType": "float64",
         "type": "float"
        },
        {
         "name": "Q89",
         "rawType": "float64",
         "type": "float"
        },
        {
         "name": "Q90",
         "rawType": "int64",
         "type": "integer"
        },
        {
         "name": "Q91",
         "rawType": "int64",
         "type": "integer"
        },
        {
         "name": "Q92",
         "rawType": "int64",
         "type": "integer"
        },
        {
         "name": "Q93",
         "rawType": "int64",
         "type": "integer"
        },
        {
         "name": "Q94",
         "rawType": "int64",
         "type": "integer"
        },
        {
         "name": "Q94R",
         "rawType": "int64",
         "type": "integer"
        },
        {
         "name": "Q95",
         "rawType": "int64",
         "type": "integer"
        },
        {
         "name": "Q95R",
         "rawType": "int64",
         "type": "integer"
        },
        {
         "name": "Q96",
         "rawType": "int64",
         "type": "integer"
        },
        {
         "name": "Q96R",
         "rawType": "int64",
         "type": "integer"
        },
        {
         "name": "Q97",
         "rawType": "int64",
         "type": "integer"
        },
        {
         "name": "Q97R",
         "rawType": "int64",
         "type": "integer"
        },
        {
         "name": "Q98",
         "rawType": "int64",
         "type": "integer"
        },
        {
         "name": "Q98R",
         "rawType": "int64",
         "type": "integer"
        },
        {
         "name": "Q99",
         "rawType": "int64",
         "type": "integer"
        },
        {
         "name": "Q99R",
         "rawType": "int64",
         "type": "integer"
        },
        {
         "name": "Q100",
         "rawType": "int64",
         "type": "integer"
        },
        {
         "name": "Q100R",
         "rawType": "int64",
         "type": "integer"
        },
        {
         "name": "Q101",
         "rawType": "int64",
         "type": "integer"
        },
        {
         "name": "Q101R",
         "rawType": "int64",
         "type": "integer"
        },
        {
         "name": "Q102",
         "rawType": "int64",
         "type": "integer"
        },
        {
         "name": "Q102R",
         "rawType": "int64",
         "type": "integer"
        },
        {
         "name": "Q103",
         "rawType": "int64",
         "type": "integer"
        },
        {
         "name": "Q103R",
         "rawType": "int64",
         "type": "integer"
        },
        {
         "name": "Q104",
         "rawType": "int64",
         "type": "integer"
        },
        {
         "name": "Q104R",
         "rawType": "int64",
         "type": "integer"
        },
        {
         "name": "Q105",
         "rawType": "int64",
         "type": "integer"
        },
        {
         "name": "Q105R",
         "rawType": "int64",
         "type": "integer"
        },
        {
         "name": "Q106",
         "rawType": "int64",
         "type": "integer"
        },
        {
         "name": "Q107",
         "rawType": "int64",
         "type": "integer"
        },
        {
         "name": "Q108",
         "rawType": "int64",
         "type": "integer"
        },
        {
         "name": "Q109",
         "rawType": "int64",
         "type": "integer"
        },
        {
         "name": "Q110",
         "rawType": "int64",
         "type": "integer"
        },
        {
         "name": "Q111",
         "rawType": "int64",
         "type": "integer"
        },
        {
         "name": "Q112",
         "rawType": "float64",
         "type": "float"
        },
        {
         "name": "Q113",
         "rawType": "float64",
         "type": "float"
        },
        {
         "name": "Q114",
         "rawType": "float64",
         "type": "float"
        },
        {
         "name": "Q115",
         "rawType": "float64",
         "type": "float"
        },
        {
         "name": "Q116",
         "rawType": "float64",
         "type": "float"
        },
        {
         "name": "Q117",
         "rawType": "float64",
         "type": "float"
        },
        {
         "name": "Q118",
         "rawType": "float64",
         "type": "float"
        },
        {
         "name": "Q119",
         "rawType": "float64",
         "type": "float"
        },
        {
         "name": "Q120",
         "rawType": "int64",
         "type": "integer"
        },
        {
         "name": "Q121",
         "rawType": "float64",
         "type": "float"
        },
        {
         "name": "Q122",
         "rawType": "float64",
         "type": "float"
        },
        {
         "name": "Q123",
         "rawType": "float64",
         "type": "float"
        },
        {
         "name": "Q124",
         "rawType": "float64",
         "type": "float"
        },
        {
         "name": "Q125",
         "rawType": "float64",
         "type": "float"
        },
        {
         "name": "Q126",
         "rawType": "float64",
         "type": "float"
        },
        {
         "name": "Q127",
         "rawType": "float64",
         "type": "float"
        },
        {
         "name": "Q128",
         "rawType": "float64",
         "type": "float"
        },
        {
         "name": "Q129",
         "rawType": "float64",
         "type": "float"
        },
        {
         "name": "Q130",
         "rawType": "int64",
         "type": "integer"
        },
        {
         "name": "Q131",
         "rawType": "float64",
         "type": "float"
        },
        {
         "name": "Q132",
         "rawType": "float64",
         "type": "float"
        },
        {
         "name": "Q133",
         "rawType": "float64",
         "type": "float"
        },
        {
         "name": "Q134",
         "rawType": "float64",
         "type": "float"
        },
        {
         "name": "Q135",
         "rawType": "float64",
         "type": "float"
        },
        {
         "name": "Q136",
         "rawType": "float64",
         "type": "float"
        },
        {
         "name": "Q137",
         "rawType": "float64",
         "type": "float"
        },
        {
         "name": "Q138",
         "rawType": "float64",
         "type": "float"
        },
        {
         "name": "Q139",
         "rawType": "float64",
         "type": "float"
        },
        {
         "name": "Q140",
         "rawType": "float64",
         "type": "float"
        },
        {
         "name": "Q141",
         "rawType": "float64",
         "type": "float"
        },
        {
         "name": "Q142",
         "rawType": "float64",
         "type": "float"
        },
        {
         "name": "Q143",
         "rawType": "float64",
         "type": "float"
        },
        {
         "name": "Q144",
         "rawType": "float64",
         "type": "float"
        },
        {
         "name": "Q145",
         "rawType": "float64",
         "type": "float"
        },
        {
         "name": "Q146",
         "rawType": "float64",
         "type": "float"
        },
        {
         "name": "Q147",
         "rawType": "float64",
         "type": "float"
        },
        {
         "name": "Q148",
         "rawType": "float64",
         "type": "float"
        },
        {
         "name": "Q149",
         "rawType": "int64",
         "type": "integer"
        },
        {
         "name": "Q150",
         "rawType": "int64",
         "type": "integer"
        },
        {
         "name": "Q151",
         "rawType": "float64",
         "type": "float"
        },
        {
         "name": "Q152",
         "rawType": "int64",
         "type": "integer"
        },
        {
         "name": "Q153",
         "rawType": "int64",
         "type": "integer"
        },
        {
         "name": "Q154",
         "rawType": "int64",
         "type": "integer"
        },
        {
         "name": "Q155",
         "rawType": "int64",
         "type": "integer"
        },
        {
         "name": "Q156",
         "rawType": "int64",
         "type": "integer"
        },
        {
         "name": "Q157",
         "rawType": "int64",
         "type": "integer"
        },
        {
         "name": "Q158",
         "rawType": "int64",
         "type": "integer"
        },
        {
         "name": "Q159",
         "rawType": "int64",
         "type": "integer"
        },
        {
         "name": "Q160",
         "rawType": "int64",
         "type": "integer"
        },
        {
         "name": "Q161",
         "rawType": "int64",
         "type": "integer"
        },
        {
         "name": "Q162",
         "rawType": "int64",
         "type": "integer"
        },
        {
         "name": "Q163",
         "rawType": "int64",
         "type": "integer"
        },
        {
         "name": "Q164",
         "rawType": "int64",
         "type": "integer"
        },
        {
         "name": "Q165",
         "rawType": "int64",
         "type": "integer"
        },
        {
         "name": "Q166",
         "rawType": "int64",
         "type": "integer"
        },
        {
         "name": "Q167",
         "rawType": "int64",
         "type": "integer"
        },
        {
         "name": "Q168",
         "rawType": "int64",
         "type": "integer"
        },
        {
         "name": "Q169",
         "rawType": "int64",
         "type": "integer"
        },
        {
         "name": "Q170",
         "rawType": "int64",
         "type": "integer"
        },
        {
         "name": "Q171",
         "rawType": "int64",
         "type": "integer"
        },
        {
         "name": "Q172",
         "rawType": "int64",
         "type": "integer"
        },
        {
         "name": "Q172R",
         "rawType": "int64",
         "type": "integer"
        },
        {
         "name": "Q173",
         "rawType": "int64",
         "type": "integer"
        },
        {
         "name": "Q174",
         "rawType": "int64",
         "type": "integer"
        },
        {
         "name": "Q175",
         "rawType": "int64",
         "type": "integer"
        },
        {
         "name": "Q176",
         "rawType": "int64",
         "type": "integer"
        },
        {
         "name": "Q177",
         "rawType": "int64",
         "type": "integer"
        },
        {
         "name": "Q178",
         "rawType": "int64",
         "type": "integer"
        },
        {
         "name": "Q179",
         "rawType": "int64",
         "type": "integer"
        },
        {
         "name": "Q180",
         "rawType": "int64",
         "type": "integer"
        },
        {
         "name": "Q181",
         "rawType": "int64",
         "type": "integer"
        },
        {
         "name": "Q182",
         "rawType": "int64",
         "type": "integer"
        },
        {
         "name": "Q183",
         "rawType": "int64",
         "type": "integer"
        },
        {
         "name": "Q184",
         "rawType": "int64",
         "type": "integer"
        },
        {
         "name": "Q185",
         "rawType": "int64",
         "type": "integer"
        },
        {
         "name": "Q186",
         "rawType": "int64",
         "type": "integer"
        },
        {
         "name": "Q187",
         "rawType": "int64",
         "type": "integer"
        },
        {
         "name": "Q188",
         "rawType": "int64",
         "type": "integer"
        },
        {
         "name": "Q189",
         "rawType": "int64",
         "type": "integer"
        },
        {
         "name": "Q190",
         "rawType": "int64",
         "type": "integer"
        },
        {
         "name": "Q191",
         "rawType": "int64",
         "type": "integer"
        },
        {
         "name": "Q192",
         "rawType": "int64",
         "type": "integer"
        },
        {
         "name": "Q193",
         "rawType": "int64",
         "type": "integer"
        },
        {
         "name": "Q194",
         "rawType": "int64",
         "type": "integer"
        },
        {
         "name": "Q195",
         "rawType": "int64",
         "type": "integer"
        },
        {
         "name": "Q196",
         "rawType": "int64",
         "type": "integer"
        },
        {
         "name": "Q197",
         "rawType": "int64",
         "type": "integer"
        },
        {
         "name": "Q198",
         "rawType": "int64",
         "type": "integer"
        },
        {
         "name": "Q199",
         "rawType": "int64",
         "type": "integer"
        },
        {
         "name": "Q200",
         "rawType": "int64",
         "type": "integer"
        },
        {
         "name": "Q201",
         "rawType": "int64",
         "type": "integer"
        },
        {
         "name": "Q202",
         "rawType": "int64",
         "type": "integer"
        },
        {
         "name": "Q203",
         "rawType": "int64",
         "type": "integer"
        },
        {
         "name": "Q204",
         "rawType": "int64",
         "type": "integer"
        },
        {
         "name": "Q205",
         "rawType": "int64",
         "type": "integer"
        },
        {
         "name": "Q206",
         "rawType": "int64",
         "type": "integer"
        },
        {
         "name": "Q207",
         "rawType": "int64",
         "type": "integer"
        },
        {
         "name": "Q208",
         "rawType": "int64",
         "type": "integer"
        },
        {
         "name": "Q209",
         "rawType": "int64",
         "type": "integer"
        },
        {
         "name": "Q210",
         "rawType": "int64",
         "type": "integer"
        },
        {
         "name": "Q211",
         "rawType": "int64",
         "type": "integer"
        },
        {
         "name": "Q212",
         "rawType": "int64",
         "type": "integer"
        },
        {
         "name": "Q213",
         "rawType": "int64",
         "type": "integer"
        },
        {
         "name": "Q214",
         "rawType": "int64",
         "type": "integer"
        },
        {
         "name": "Q215",
         "rawType": "int64",
         "type": "integer"
        },
        {
         "name": "Q216",
         "rawType": "int64",
         "type": "integer"
        },
        {
         "name": "Q217",
         "rawType": "int64",
         "type": "integer"
        },
        {
         "name": "Q218",
         "rawType": "int64",
         "type": "integer"
        },
        {
         "name": "Q219",
         "rawType": "int64",
         "type": "integer"
        },
        {
         "name": "Q220",
         "rawType": "int64",
         "type": "integer"
        },
        {
         "name": "Q221",
         "rawType": "int64",
         "type": "integer"
        },
        {
         "name": "Q222",
         "rawType": "int64",
         "type": "integer"
        },
        {
         "name": "Q223",
         "rawType": "int64",
         "type": "integer"
        },
        {
         "name": "Q223_ABREV",
         "rawType": "int64",
         "type": "integer"
        },
        {
         "name": "Q223_LOCAL",
         "rawType": "int64",
         "type": "integer"
        },
        {
         "name": "Q224",
         "rawType": "int64",
         "type": "integer"
        },
        {
         "name": "Q225",
         "rawType": "int64",
         "type": "integer"
        },
        {
         "name": "Q226",
         "rawType": "int64",
         "type": "integer"
        },
        {
         "name": "Q227",
         "rawType": "int64",
         "type": "integer"
        },
        {
         "name": "Q228",
         "rawType": "int64",
         "type": "integer"
        },
        {
         "name": "Q229",
         "rawType": "int64",
         "type": "integer"
        },
        {
         "name": "Q230",
         "rawType": "int64",
         "type": "integer"
        },
        {
         "name": "Q231",
         "rawType": "int64",
         "type": "integer"
        },
        {
         "name": "Q232",
         "rawType": "int64",
         "type": "integer"
        },
        {
         "name": "Q233",
         "rawType": "int64",
         "type": "integer"
        },
        {
         "name": "Q234",
         "rawType": "int64",
         "type": "integer"
        },
        {
         "name": "Q234A",
         "rawType": "int64",
         "type": "integer"
        },
        {
         "name": "Q235",
         "rawType": "int64",
         "type": "integer"
        },
        {
         "name": "Q236",
         "rawType": "int64",
         "type": "integer"
        },
        {
         "name": "Q237",
         "rawType": "int64",
         "type": "integer"
        },
        {
         "name": "Q238",
         "rawType": "int64",
         "type": "integer"
        },
        {
         "name": "Q239",
         "rawType": "int64",
         "type": "integer"
        },
        {
         "name": "Q240",
         "rawType": "int64",
         "type": "integer"
        },
        {
         "name": "Q241",
         "rawType": "int64",
         "type": "integer"
        },
        {
         "name": "Q242",
         "rawType": "int64",
         "type": "integer"
        },
        {
         "name": "Q243",
         "rawType": "int64",
         "type": "integer"
        },
        {
         "name": "Q244",
         "rawType": "int64",
         "type": "integer"
        },
        {
         "name": "Q245",
         "rawType": "int64",
         "type": "integer"
        },
        {
         "name": "Q246",
         "rawType": "int64",
         "type": "integer"
        },
        {
         "name": "Q247",
         "rawType": "int64",
         "type": "integer"
        },
        {
         "name": "Q248",
         "rawType": "int64",
         "type": "integer"
        },
        {
         "name": "Q249",
         "rawType": "int64",
         "type": "integer"
        },
        {
         "name": "Q250",
         "rawType": "int64",
         "type": "integer"
        },
        {
         "name": "Q251",
         "rawType": "int64",
         "type": "integer"
        },
        {
         "name": "Q252",
         "rawType": "int64",
         "type": "integer"
        },
        {
         "name": "Q253",
         "rawType": "int64",
         "type": "integer"
        },
        {
         "name": "Q254",
         "rawType": "int64",
         "type": "integer"
        },
        {
         "name": "Q255",
         "rawType": "int64",
         "type": "integer"
        },
        {
         "name": "Q256",
         "rawType": "int64",
         "type": "integer"
        },
        {
         "name": "Q257",
         "rawType": "int64",
         "type": "integer"
        },
        {
         "name": "Q258",
         "rawType": "int64",
         "type": "integer"
        },
        {
         "name": "Q259",
         "rawType": "int64",
         "type": "integer"
        },
        {
         "name": "Q260",
         "rawType": "int64",
         "type": "integer"
        },
        {
         "name": "Q261",
         "rawType": "int64",
         "type": "integer"
        },
        {
         "name": "Q262",
         "rawType": "int64",
         "type": "integer"
        },
        {
         "name": "X003R",
         "rawType": "int64",
         "type": "integer"
        },
        {
         "name": "X003R2",
         "rawType": "int64",
         "type": "integer"
        },
        {
         "name": "Q263",
         "rawType": "int64",
         "type": "integer"
        },
        {
         "name": "Q264",
         "rawType": "int64",
         "type": "integer"
        },
        {
         "name": "V002",
         "rawType": "int64",
         "type": "integer"
        },
        {
         "name": "Q265",
         "rawType": "int64",
         "type": "integer"
        },
        {
         "name": "V001",
         "rawType": "int64",
         "type": "integer"
        },
        {
         "name": "Q266",
         "rawType": "int64",
         "type": "integer"
        },
        {
         "name": "X002_02B",
         "rawType": "object",
         "type": "string"
        },
        {
         "name": "Q267",
         "rawType": "int64",
         "type": "integer"
        },
        {
         "name": "V002A_01",
         "rawType": "object",
         "type": "string"
        },
        {
         "name": "Q268",
         "rawType": "int64",
         "type": "integer"
        },
        {
         "name": "V001A_01",
         "rawType": "object",
         "type": "string"
        },
        {
         "name": "Q269",
         "rawType": "int64",
         "type": "integer"
        },
        {
         "name": "Q270",
         "rawType": "int64",
         "type": "integer"
        },
        {
         "name": "Q271",
         "rawType": "int64",
         "type": "integer"
        },
        {
         "name": "Q272",
         "rawType": "int64",
         "type": "integer"
        },
        {
         "name": "Q273",
         "rawType": "int64",
         "type": "integer"
        },
        {
         "name": "Q274",
         "rawType": "int64",
         "type": "integer"
        },
        {
         "name": "Q275",
         "rawType": "float64",
         "type": "float"
        },
        {
         "name": "Q275A",
         "rawType": "int64",
         "type": "integer"
        },
        {
         "name": "Q275R",
         "rawType": "int64",
         "type": "integer"
        },
        {
         "name": "Q276",
         "rawType": "int64",
         "type": "integer"
        },
        {
         "name": "Q276A",
         "rawType": "int64",
         "type": "integer"
        },
        {
         "name": "Q276R",
         "rawType": "int64",
         "type": "integer"
        },
        {
         "name": "Q277",
         "rawType": "float64",
         "type": "float"
        },
        {
         "name": "Q277A",
         "rawType": "int64",
         "type": "integer"
        },
        {
         "name": "Q277R",
         "rawType": "int64",
         "type": "integer"
        },
        {
         "name": "Q278",
         "rawType": "float64",
         "type": "float"
        },
        {
         "name": "Q278A",
         "rawType": "int64",
         "type": "integer"
        },
        {
         "name": "Q278R",
         "rawType": "int64",
         "type": "integer"
        },
        {
         "name": "Q279",
         "rawType": "int64",
         "type": "integer"
        },
        {
         "name": "Q280",
         "rawType": "int64",
         "type": "integer"
        },
        {
         "name": "Q281",
         "rawType": "int64",
         "type": "integer"
        },
        {
         "name": "Q282",
         "rawType": "int64",
         "type": "integer"
        },
        {
         "name": "Q283",
         "rawType": "int64",
         "type": "integer"
        },
        {
         "name": "Q284",
         "rawType": "int64",
         "type": "integer"
        },
        {
         "name": "Q285",
         "rawType": "int64",
         "type": "integer"
        },
        {
         "name": "Q286",
         "rawType": "int64",
         "type": "integer"
        },
        {
         "name": "Q287",
         "rawType": "int64",
         "type": "integer"
        },
        {
         "name": "Q288",
         "rawType": "int64",
         "type": "integer"
        },
        {
         "name": "Q288R",
         "rawType": "int64",
         "type": "integer"
        },
        {
         "name": "Q289",
         "rawType": "int64",
         "type": "integer"
        },
        {
         "name": "Q289CS9",
         "rawType": "int64",
         "type": "integer"
        },
        {
         "name": "Q290",
         "rawType": "int64",
         "type": "integer"
        },
        {
         "name": "Q291G1",
         "rawType": "int64",
         "type": "integer"
        },
        {
         "name": "Q291G2",
         "rawType": "int64",
         "type": "integer"
        },
        {
         "name": "Q291G3",
         "rawType": "int64",
         "type": "integer"
        },
        {
         "name": "Q291G4",
         "rawType": "int64",
         "type": "integer"
        },
        {
         "name": "Q291G5",
         "rawType": "int64",
         "type": "integer"
        },
        {
         "name": "Q291G6",
         "rawType": "int64",
         "type": "integer"
        },
        {
         "name": "Q291P1",
         "rawType": "int64",
         "type": "integer"
        },
        {
         "name": "Q291P2",
         "rawType": "int64",
         "type": "integer"
        },
        {
         "name": "Q291P3",
         "rawType": "int64",
         "type": "integer"
        },
        {
         "name": "Q291P4",
         "rawType": "int64",
         "type": "integer"
        },
        {
         "name": "Q291P5",
         "rawType": "int64",
         "type": "integer"
        },
        {
         "name": "Q291P6",
         "rawType": "int64",
         "type": "integer"
        },
        {
         "name": "Q291UN1",
         "rawType": "int64",
         "type": "integer"
        },
        {
         "name": "Q291UN2",
         "rawType": "int64",
         "type": "integer"
        },
        {
         "name": "Q291UN3",
         "rawType": "int64",
         "type": "integer"
        },
        {
         "name": "Q291UN4",
         "rawType": "int64",
         "type": "integer"
        },
        {
         "name": "Q291UN5",
         "rawType": "int64",
         "type": "integer"
        },
        {
         "name": "Q291UN6",
         "rawType": "int64",
         "type": "integer"
        },
        {
         "name": "Q292A",
         "rawType": "int64",
         "type": "integer"
        },
        {
         "name": "Q292B",
         "rawType": "int64",
         "type": "integer"
        },
        {
         "name": "Q292C",
         "rawType": "int64",
         "type": "integer"
        },
        {
         "name": "Q292D",
         "rawType": "int64",
         "type": "integer"
        },
        {
         "name": "Q292E",
         "rawType": "int64",
         "type": "integer"
        },
        {
         "name": "Q292F",
         "rawType": "int64",
         "type": "integer"
        },
        {
         "name": "Q292G",
         "rawType": "int64",
         "type": "integer"
        },
        {
         "name": "Q292H",
         "rawType": "int64",
         "type": "integer"
        },
        {
         "name": "Q292I",
         "rawType": "int64",
         "type": "integer"
        },
        {
         "name": "Q292J",
         "rawType": "int64",
         "type": "integer"
        },
        {
         "name": "Q292K",
         "rawType": "int64",
         "type": "integer"
        },
        {
         "name": "Q292L",
         "rawType": "int64",
         "type": "integer"
        },
        {
         "name": "Q292M",
         "rawType": "int64",
         "type": "integer"
        },
        {
         "name": "Q292N",
         "rawType": "int64",
         "type": "integer"
        },
        {
         "name": "Q292O",
         "rawType": "int64",
         "type": "integer"
        },
        {
         "name": "Q293",
         "rawType": "int64",
         "type": "integer"
        },
        {
         "name": "Q294A",
         "rawType": "int64",
         "type": "integer"
        },
        {
         "name": "Q294B",
         "rawType": "int64",
         "type": "integer"
        },
        {
         "name": "Y001",
         "rawType": "int64",
         "type": "integer"
        },
        {
         "name": "Y002",
         "rawType": "int64",
         "type": "integer"
        },
        {
         "name": "Y003",
         "rawType": "int64",
         "type": "integer"
        },
        {
         "name": "SACSECVAL",
         "rawType": "float64",
         "type": "float"
        },
        {
         "name": "RESEMAVAL",
         "rawType": "float64",
         "type": "float"
        },
        {
         "name": "I_AUTHORITY",
         "rawType": "float64",
         "type": "float"
        },
        {
         "name": "I_NATIONALISM",
         "rawType": "float64",
         "type": "float"
        },
        {
         "name": "I_DEVOUT",
         "rawType": "float64",
         "type": "float"
        },
        {
         "name": "DEFIANCE",
         "rawType": "float64",
         "type": "float"
        },
        {
         "name": "I_RELIGIMP",
         "rawType": "float64",
         "type": "float"
        },
        {
         "name": "I_RELIGBEL",
         "rawType": "float64",
         "type": "float"
        },
        {
         "name": "I_RELIGPRAC",
         "rawType": "float64",
         "type": "float"
        },
        {
         "name": "DISBELIEF",
         "rawType": "float64",
         "type": "float"
        },
        {
         "name": "I_NORM1",
         "rawType": "float64",
         "type": "float"
        },
        {
         "name": "I_NORM2",
         "rawType": "float64",
         "type": "float"
        },
        {
         "name": "I_NORM3",
         "rawType": "float64",
         "type": "float"
        },
        {
         "name": "RELATIVISM",
         "rawType": "float64",
         "type": "float"
        },
        {
         "name": "I_TRUSTARMY",
         "rawType": "float64",
         "type": "float"
        },
        {
         "name": "I_TRUSTPOLICE",
         "rawType": "float64",
         "type": "float"
        },
        {
         "name": "I_TRUSTCOURTS",
         "rawType": "float64",
         "type": "float"
        },
        {
         "name": "SCEPTICISM",
         "rawType": "float64",
         "type": "float"
        },
        {
         "name": "I_INDEP",
         "rawType": "float64",
         "type": "float"
        },
        {
         "name": "I_IMAGIN",
         "rawType": "float64",
         "type": "float"
        },
        {
         "name": "I_NONOBED",
         "rawType": "float64",
         "type": "float"
        },
        {
         "name": "AUTONOMY",
         "rawType": "float64",
         "type": "float"
        },
        {
         "name": "I_WOMJOB",
         "rawType": "float64",
         "type": "float"
        },
        {
         "name": "I_WOMPOL",
         "rawType": "float64",
         "type": "float"
        },
        {
         "name": "I_WOMEDU",
         "rawType": "float64",
         "type": "float"
        },
        {
         "name": "EQUALITY",
         "rawType": "float64",
         "type": "float"
        },
        {
         "name": "I_HOMOLIB",
         "rawType": "float64",
         "type": "float"
        },
        {
         "name": "I_ABORTLIB",
         "rawType": "float64",
         "type": "float"
        },
        {
         "name": "I_DIVORLIB",
         "rawType": "float64",
         "type": "float"
        },
        {
         "name": "CHOICE",
         "rawType": "float64",
         "type": "float"
        },
        {
         "name": "I_VOICE1",
         "rawType": "float64",
         "type": "float"
        },
        {
         "name": "I_VOICE2",
         "rawType": "float64",
         "type": "float"
        },
        {
         "name": "I_VOI2_00",
         "rawType": "float64",
         "type": "float"
        },
        {
         "name": "VOICE",
         "rawType": "float64",
         "type": "float"
        },
        {
         "name": "SECVALWGT",
         "rawType": "float64",
         "type": "float"
        },
        {
         "name": "RESEMAVALWGT",
         "rawType": "float64",
         "type": "float"
        },
        {
         "name": "fhregion",
         "rawType": "float64",
         "type": "float"
        },
        {
         "name": "polregfh",
         "rawType": "float64",
         "type": "float"
        },
        {
         "name": "freestfh",
         "rawType": "float64",
         "type": "float"
        },
        {
         "name": "prfhrat",
         "rawType": "float64",
         "type": "float"
        },
        {
         "name": "prfhscore",
         "rawType": "float64",
         "type": "float"
        },
        {
         "name": "clfhrat",
         "rawType": "float64",
         "type": "float"
        },
        {
         "name": "clfhscore",
         "rawType": "float64",
         "type": "float"
        },
        {
         "name": "democ",
         "rawType": "float64",
         "type": "float"
        },
        {
         "name": "autoc",
         "rawType": "float64",
         "type": "float"
        },
        {
         "name": "polity",
         "rawType": "float64",
         "type": "float"
        },
        {
         "name": "durable",
         "rawType": "float64",
         "type": "float"
        },
        {
         "name": "regtype",
         "rawType": "float64",
         "type": "float"
        },
        {
         "name": "ruleoflaw",
         "rawType": "float64",
         "type": "float"
        },
        {
         "name": "corrupttransp",
         "rawType": "float64",
         "type": "float"
        },
        {
         "name": "electintegr",
         "rawType": "float64",
         "type": "float"
        },
        {
         "name": "btiregion",
         "rawType": "float64",
         "type": "float"
        },
        {
         "name": "btistatus",
         "rawType": "float64",
         "type": "float"
        },
        {
         "name": "btidemstatus",
         "rawType": "float64",
         "type": "float"
        },
        {
         "name": "btistate",
         "rawType": "float64",
         "type": "float"
        },
        {
         "name": "btipolpart",
         "rawType": "float64",
         "type": "float"
        },
        {
         "name": "btiruleoflaw",
         "rawType": "float64",
         "type": "float"
        },
        {
         "name": "btistability",
         "rawType": "float64",
         "type": "float"
        },
        {
         "name": "btiintegration",
         "rawType": "float64",
         "type": "float"
        },
        {
         "name": "btimarket",
         "rawType": "float64",
         "type": "float"
        },
        {
         "name": "btigovindex",
         "rawType": "float64",
         "type": "float"
        },
        {
         "name": "btigoveperform",
         "rawType": "float64",
         "type": "float"
        },
        {
         "name": "btiregime",
         "rawType": "float64",
         "type": "float"
        },
        {
         "name": "regionWB",
         "rawType": "float64",
         "type": "float"
        },
        {
         "name": "incomeWB",
         "rawType": "float64",
         "type": "float"
        },
        {
         "name": "landWB",
         "rawType": "float64",
         "type": "float"
        },
        {
         "name": "GDPpercap1",
         "rawType": "float64",
         "type": "float"
        },
        {
         "name": "GDPpercap2",
         "rawType": "float64",
         "type": "float"
        },
        {
         "name": "giniWB",
         "rawType": "float64",
         "type": "float"
        },
        {
         "name": "incrichest10p",
         "rawType": "float64",
         "type": "float"
        },
        {
         "name": "popWB1990",
         "rawType": "float64",
         "type": "float"
        },
        {
         "name": "popWB2000",
         "rawType": "float64",
         "type": "float"
        },
        {
         "name": "popWB2019",
         "rawType": "float64",
         "type": "float"
        },
        {
         "name": "lifeexpect",
         "rawType": "float64",
         "type": "float"
        },
        {
         "name": "popgrowth",
         "rawType": "float64",
         "type": "float"
        },
        {
         "name": "urbanpop",
         "rawType": "float64",
         "type": "float"
        },
        {
         "name": "laborforce",
         "rawType": "float64",
         "type": "float"
        },
        {
         "name": "deathrate",
         "rawType": "float64",
         "type": "float"
        },
        {
         "name": "unemployfem",
         "rawType": "float64",
         "type": "float"
        },
        {
         "name": "unemploymale",
         "rawType": "float64",
         "type": "float"
        },
        {
         "name": "unemploytotal",
         "rawType": "float64",
         "type": "float"
        },
        {
         "name": "accessclfuel",
         "rawType": "float64",
         "type": "float"
        },
        {
         "name": "accesselectr",
         "rawType": "float64",
         "type": "float"
        },
        {
         "name": "renewelectr",
         "rawType": "float64",
         "type": "float"
        },
        {
         "name": "co2emis",
         "rawType": "float64",
         "type": "float"
        },
        {
         "name": "co2percap",
         "rawType": "float64",
         "type": "float"
        },
        {
         "name": "easeofbusiness",
         "rawType": "float64",
         "type": "float"
        },
        {
         "name": "militaryexp",
         "rawType": "float64",
         "type": "float"
        },
        {
         "name": "Trade",
         "rawType": "float64",
         "type": "float"
        },
        {
         "name": "healthexp",
         "rawType": "float64",
         "type": "float"
        },
        {
         "name": "educationexp",
         "rawType": "float64",
         "type": "float"
        },
        {
         "name": "medageun",
         "rawType": "float64",
         "type": "float"
        },
        {
         "name": "meanschooling",
         "rawType": "float64",
         "type": "float"
        },
        {
         "name": "educationHDI",
         "rawType": "float64",
         "type": "float"
        },
        {
         "name": "compulseduc",
         "rawType": "float64",
         "type": "float"
        },
        {
         "name": "GII",
         "rawType": "float64",
         "type": "float"
        },
        {
         "name": "DGI",
         "rawType": "float64",
         "type": "float"
        },
        {
         "name": "womenparl",
         "rawType": "float64",
         "type": "float"
        },
        {
         "name": "hdi",
         "rawType": "float64",
         "type": "float"
        },
        {
         "name": "incomeindexHDI",
         "rawType": "float64",
         "type": "float"
        },
        {
         "name": "humanineqiality",
         "rawType": "float64",
         "type": "float"
        },
        {
         "name": "lifeexpectHDI",
         "rawType": "float64",
         "type": "float"
        },
        {
         "name": "homiciderate",
         "rawType": "float64",
         "type": "float"
        },
        {
         "name": "Refugeesorigin",
         "rawType": "float64",
         "type": "float"
        },
        {
         "name": "internetusers",
         "rawType": "float64",
         "type": "float"
        },
        {
         "name": "mobphone",
         "rawType": "float64",
         "type": "float"
        },
        {
         "name": "migrationrate",
         "rawType": "float64",
         "type": "float"
        },
        {
         "name": "schoolgpi",
         "rawType": "float64",
         "type": "float"
        },
        {
         "name": "femchoutsch",
         "rawType": "float64",
         "type": "float"
        },
        {
         "name": "choutsch",
         "rawType": "float64",
         "type": "float"
        },
        {
         "name": "v2x_polyarchy",
         "rawType": "float64",
         "type": "float"
        },
        {
         "name": "v2x_libdem",
         "rawType": "float64",
         "type": "float"
        },
        {
         "name": "v2x_partipdem",
         "rawType": "float64",
         "type": "float"
        },
        {
         "name": "v2x_delibdem",
         "rawType": "float64",
         "type": "float"
        },
        {
         "name": "v2x_egaldem",
         "rawType": "float64",
         "type": "float"
        },
        {
         "name": "v2x_freexp_altinf",
         "rawType": "float64",
         "type": "float"
        },
        {
         "name": "v2x_frassoc_thick",
         "rawType": "float64",
         "type": "float"
        },
        {
         "name": "v2xel_frefair",
         "rawType": "float64",
         "type": "float"
        },
        {
         "name": "v2xcl_rol",
         "rawType": "float64",
         "type": "float"
        },
        {
         "name": "v2x_cspart",
         "rawType": "float64",
         "type": "float"
        },
        {
         "name": "v2xeg_eqdr",
         "rawType": "float64",
         "type": "float"
        },
        {
         "name": "v2excrptps",
         "rawType": "float64",
         "type": "float"
        },
        {
         "name": "v2exthftps",
         "rawType": "float64",
         "type": "float"
        },
        {
         "name": "v2juaccnt",
         "rawType": "float64",
         "type": "float"
        },
        {
         "name": "v2cltrnslw",
         "rawType": "float64",
         "type": "float"
        },
        {
         "name": "v2clacjust",
         "rawType": "float64",
         "type": "float"
        },
        {
         "name": "v2clsocgrp",
         "rawType": "float64",
         "type": "float"
        },
        {
         "name": "v2clacfree",
         "rawType": "float64",
         "type": "float"
        },
        {
         "name": "v2clrelig",
         "rawType": "float64",
         "type": "float"
        },
        {
         "name": "v2csrlgrep",
         "rawType": "float64",
         "type": "float"
        },
        {
         "name": "v2mecenefm",
         "rawType": "float64",
         "type": "float"
        },
        {
         "name": "v2mecenefi",
         "rawType": "float64",
         "type": "float"
        },
        {
         "name": "v2mebias",
         "rawType": "float64",
         "type": "float"
        },
        {
         "name": "v2pepwrses",
         "rawType": "float64",
         "type": "float"
        },
        {
         "name": "v2pepwrgen",
         "rawType": "float64",
         "type": "float"
        },
        {
         "name": "v2peedueq",
         "rawType": "float64",
         "type": "float"
        },
        {
         "name": "v2pehealth",
         "rawType": "float64",
         "type": "float"
        },
        {
         "name": "v2peapsecon",
         "rawType": "float64",
         "type": "float"
        },
        {
         "name": "v2peasjsoecon",
         "rawType": "float64",
         "type": "float"
        },
        {
         "name": "v2clgencl",
         "rawType": "float64",
         "type": "float"
        },
        {
         "name": "v2peasjgen",
         "rawType": "float64",
         "type": "float"
        },
        {
         "name": "v2peasbgen",
         "rawType": "float64",
         "type": "float"
        },
        {
         "name": "v2cafres",
         "rawType": "float64",
         "type": "float"
        },
        {
         "name": "v2cafexch",
         "rawType": "float64",
         "type": "float"
        },
        {
         "name": "v2x_corr",
         "rawType": "float64",
         "type": "float"
        },
        {
         "name": "v2x_gender",
         "rawType": "float64",
         "type": "float"
        },
        {
         "name": "v2x_gencl",
         "rawType": "float64",
         "type": "float"
        },
        {
         "name": "v2x_genpp",
         "rawType": "float64",
         "type": "float"
        },
        {
         "name": "v2x_rule",
         "rawType": "float64",
         "type": "float"
        },
        {
         "name": "v2xcl_acjst",
         "rawType": "float64",
         "type": "float"
        },
        {
         "name": "td_voiacc",
         "rawType": "float64",
         "type": "float"
        },
        {
         "name": "td_polstab",
         "rawType": "float64",
         "type": "float"
        },
        {
         "name": "td_goveff",
         "rawType": "float64",
         "type": "float"
        },
        {
         "name": "td_regqual",
         "rawType": "float64",
         "type": "float"
        },
        {
         "name": "td_rulelaw",
         "rawType": "float64",
         "type": "float"
        },
        {
         "name": "td_ctrlcorr",
         "rawType": "float64",
         "type": "float"
        },
        {
         "name": "ID_GPS",
         "rawType": "float64",
         "type": "float"
        },
        {
         "name": "ID_PartyFacts",
         "rawType": "float64",
         "type": "float"
        },
        {
         "name": "Partyname",
         "rawType": "object",
         "type": "string"
        },
        {
         "name": "Partyabb",
         "rawType": "object",
         "type": "string"
        },
        {
         "name": "CPARTY",
         "rawType": "object",
         "type": "string"
        },
        {
         "name": "CPARTYABB",
         "rawType": "object",
         "type": "string"
        },
        {
         "name": "Type_Values",
         "rawType": "float64",
         "type": "float"
        },
        {
         "name": "Type_Populism",
         "rawType": "float64",
         "type": "float"
        },
        {
         "name": "Type_Populist_Values",
         "rawType": "float64",
         "type": "float"
        },
        {
         "name": "Type_Partysize_vote",
         "rawType": "float64",
         "type": "float"
        },
        {
         "name": "Type_Partysize_seat",
         "rawType": "float64",
         "type": "float"
        },
        {
         "name": "GPS_V4_Scale",
         "rawType": "float64",
         "type": "float"
        },
        {
         "name": "GPS_V6_Scale",
         "rawType": "float64",
         "type": "float"
        },
        {
         "name": "GPS_V8_Scale",
         "rawType": "float64",
         "type": "float"
        },
        {
         "name": "GPS_V9",
         "rawType": "float64",
         "type": "float"
        },
        {
         "name": "GPS_V10",
         "rawType": "float64",
         "type": "float"
        },
        {
         "name": "GPS_V11",
         "rawType": "float64",
         "type": "float"
        },
        {
         "name": "GPS_V12",
         "rawType": "float64",
         "type": "float"
        },
        {
         "name": "GPS_V13",
         "rawType": "float64",
         "type": "float"
        },
        {
         "name": "GPS_V14",
         "rawType": "float64",
         "type": "float"
        },
        {
         "name": "GPS_V15",
         "rawType": "float64",
         "type": "float"
        },
        {
         "name": "GPS_V16",
         "rawType": "float64",
         "type": "float"
        },
        {
         "name": "GPS_V17",
         "rawType": "float64",
         "type": "float"
        },
        {
         "name": "WVS_LR_PartyVoter",
         "rawType": "float64",
         "type": "float"
        },
        {
         "name": "WVS_LibCon_PartyVoter",
         "rawType": "float64",
         "type": "float"
        },
        {
         "name": "WVS_Polmistrust_PartyVoter",
         "rawType": "float64",
         "type": "float"
        },
        {
         "name": "WVS_LR_MedianVoter",
         "rawType": "float64",
         "type": "float"
        },
        {
         "name": "WVS_LibCon_MedianVoter",
         "rawType": "float64",
         "type": "float"
        },
        {
         "name": "v2psbars",
         "rawType": "float64",
         "type": "float"
        },
        {
         "name": "v2psorgs",
         "rawType": "float64",
         "type": "float"
        },
        {
         "name": "v2psprbrch",
         "rawType": "float64",
         "type": "float"
        },
        {
         "name": "v2psprlnks",
         "rawType": "float64",
         "type": "float"
        },
        {
         "name": "v2psplats",
         "rawType": "float64",
         "type": "float"
        },
        {
         "name": "v2xnp_client",
         "rawType": "float64",
         "type": "float"
        },
        {
         "name": "v2xps_party",
         "rawType": "float64",
         "type": "float"
        },
        {
         "name": "Economy ISO3",
         "rawType": "object",
         "type": "string"
        },
        {
         "name": "Economy Name",
         "rawType": "object",
         "type": "string"
        },
        {
         "name": "Year",
         "rawType": "int64",
         "type": "integer"
        },
        {
         "name": "wpfi_rank",
         "rawType": "float64",
         "type": "float"
        },
        {
         "name": "base_distrust_index",
         "rawType": "float64",
         "type": "float"
        },
        {
         "name": "national_distrust_index",
         "rawType": "float64",
         "type": "float"
        },
        {
         "name": "international_distrust_index",
         "rawType": "float64",
         "type": "float"
        },
        {
         "name": "baseline_corruption",
         "rawType": "float64",
         "type": "float"
        },
        {
         "name": "group_corruption",
         "rawType": "float64",
         "type": "float"
        },
        {
         "name": "migration_perception",
         "rawType": "float64",
         "type": "float"
        },
        {
         "name": "migration_positive",
         "rawType": "float64",
         "type": "float"
        },
        {
         "name": "migration_negative",
         "rawType": "float64",
         "type": "float"
        },
        {
         "name": "above_avg_inc",
         "rawType": "int64",
         "type": "integer"
        },
        {
         "name": "pol_value_1",
         "rawType": "int64",
         "type": "integer"
        },
        {
         "name": "pol_value_2",
         "rawType": "int64",
         "type": "integer"
        },
        {
         "name": "pol_value_3",
         "rawType": "int64",
         "type": "integer"
        },
        {
         "name": "pol_value_4",
         "rawType": "int64",
         "type": "integer"
        },
        {
         "name": "pol_value_5",
         "rawType": "int64",
         "type": "integer"
        },
        {
         "name": "pol_value_6",
         "rawType": "int64",
         "type": "integer"
        },
        {
         "name": "pol_value_7",
         "rawType": "int64",
         "type": "integer"
        },
        {
         "name": "pol_value_8",
         "rawType": "int64",
         "type": "integer"
        },
        {
         "name": "pol_value_9",
         "rawType": "int64",
         "type": "integer"
        },
        {
         "name": "pol_value_10",
         "rawType": "int64",
         "type": "integer"
        },
        {
         "name": "gender",
         "rawType": "int64",
         "type": "integer"
        },
        {
         "name": "age",
         "rawType": "int64",
         "type": "integer"
        },
        {
         "name": "mother_immigrant",
         "rawType": "int64",
         "type": "integer"
        },
        {
         "name": "father_immigrant",
         "rawType": "int64",
         "type": "integer"
        },
        {
         "name": "is_immigrant",
         "rawType": "int64",
         "type": "integer"
        },
        {
         "name": "happ__1",
         "rawType": "int64",
         "type": "integer"
        },
        {
         "name": "happ__2",
         "rawType": "int64",
         "type": "integer"
        },
        {
         "name": "happ__3",
         "rawType": "int64",
         "type": "integer"
        },
        {
         "name": "happ__4",
         "rawType": "int64",
         "type": "integer"
        },
        {
         "name": "standard_parents_better",
         "rawType": "int64",
         "type": "integer"
        },
        {
         "name": "standard_parents_worse",
         "rawType": "int64",
         "type": "integer"
        },
        {
         "name": "hardships_questions",
         "rawType": "float64",
         "type": "float"
        },
        {
         "name": "security_actions_money_no",
         "rawType": "int64",
         "type": "integer"
        },
        {
         "name": "security_actions_night_no",
         "rawType": "int64",
         "type": "integer"
        },
        {
         "name": "security_actions_weapon_no",
         "rawType": "int64",
         "type": "integer"
        },
        {
         "name": "victim_respondent_no",
         "rawType": "int64",
         "type": "integer"
        },
        {
         "name": "victim_family_no",
         "rawType": "int64",
         "type": "integer"
        },
        {
         "name": "war_no",
         "rawType": "int64",
         "type": "integer"
        },
        {
         "name": "baseline_security",
         "rawType": "float64",
         "type": "float"
        },
        {
         "name": "security_neighborhood",
         "rawType": "float64",
         "type": "float"
        },
        {
         "name": "security_financial",
         "rawType": "float64",
         "type": "float"
        },
        {
         "name": "security_war",
         "rawType": "float64",
         "type": "float"
        },
        {
         "name": "education",
         "rawType": "float64",
         "type": "float"
        },
        {
         "name": "education_mother",
         "rawType": "float64",
         "type": "float"
        },
        {
         "name": "education_father",
         "rawType": "float64",
         "type": "float"
        }
       ],
       "conversionMethod": "pd.DataFrame",
       "ref": "e1054203-4d9a-4683-8572-cebab196e9ca",
       "rows": [
        [
         "0",
         "0",
         "6-0-0 (2024-04-30)",
         "doi.org/10.14281/18241.24",
         "7",
         "2018",
         "2",
         "36",
         "AUS",
         "900",
         "AUL",
         "36070000",
         "36720002",
         "20180409",
         "201804",
         "201808",
         "-3.0",
         "-3.0",
         "-3",
         "4",
         "36001",
         "36002",
         "-4",
         "-3",
         "-4.0",
         "7",
         "4",
         "1",
         "1",
         "-4",
         "-4.0",
         "-4.0",
         "-3",
         "1240",
         "en",
         "3",
         "-4",
         "-4",
         "0.651305415",
         "0.551572",
         "1.16704500827358",
         "362018",
         "1",
         "2",
         "2",
         "2",
         "3",
         "3",
         "1",
         "1",
         "1",
         "1",
         "1",
         "2",
         "2",
         "2",
         "2",
         "2",
         "2",
         "1",
         "1",
         "1",
         "1",
         "1",
         "1",
         "1",
         "1",
         "1",
         "2",
         "2",
         "1",
         "3",
         "2",
         "2",
         "2",
         "1",
         "1",
         "1",
         "3",
         "3",
         "3",
         "1",
         "2",
         "2",
         "2",
         "2",
         "3",
         "2",
         "2",
         "1",
         "2",
         "3",
         "3",
         "7",
         "5",
         "0.0",
         "0.0",
         "0.0",
         "0.0",
         "0.0",
         "1.0",
         "2",
         "0.0",
         "0.3333333333333333",
         "0.3333333333333333",
         "0.3333333333333333",
         "0.6666666666666667",
         "0.6666666666666667",
         "0.3333333333333333",
         "0.0",
         "0.3333333333333333",
         "0.6666666666666667",
         "1.0",
         "0.0",
         "0.3333333333333333",
         "0.6666666666666667",
         "0.3333333333333333",
         "0.3333333333333333",
         "0.0",
         "0.6666666666666667",
         "0.6666666666666667",
         "0.6666666666666667",
         "0.6666666666666667",
         "1.0",
         "1.0",
         "0.6666666666666667",
         null,
         "-4",
         "-4",
         "-4",
         "-4",
         "-4",
         "-4",
         "-4",
         "-4",
         "-4",
         "-4",
         "-4",
         "-4",
         "-4",
         "-4",
         "-4",
         "-4",
         "-4",
         "1.0",
         "1.0",
         "1.0",
         "0.0",
         "0.6666666666666667",
         "0.3333333333333333",
         "0.6666666666666667",
         "5",
         "3",
         "1",
         "2",
         "0",
         "0",
         "0",
         "0",
         "0",
         "0",
         "0",
         "0",
         "0",
         "0",
         "0",
         "0",
         "0",
         "0",
         "0",
         "0",
         "0",
         "0",
         "0",
         "0",
         "0",
         "0",
         "0",
         "0",
         "10",
         "5",
         "10",
         "5",
         "1",
         "2",
         "1.0",
         "0.3333333333333333",
         "0.3333333333333333",
         "0.3333333333333333",
         "0.3333333333333333",
         "0.3333333333333333",
         "0.3333333333333333",
         "0.6666666666666667",
         "5",
         "0.5",
         "0.0",
         "1.0",
         "1.0",
         "1.0",
         "1.0",
         "1.0",
         "1.0",
         "1.0",
         "4",
         "0.6666666666666667",
         "0.6666666666666667",
         "0.6666666666666667",
         "0.6666666666666667",
         "0.6666666666666667",
         "0.6666666666666667",
         "0.6666666666666667",
         "0.6666666666666667",
         "1.0",
         "1.0",
         "1.0",
         "1.0",
         "1.0",
         "2.0",
         "2.0",
         "1.0",
         "0.6666666666666667",
         "1.0",
         "1",
         "1",
         "1.0",
         "1",
         "2",
         "4",
         "1",
         "1",
         "3",
         "3",
         "3",
         "3",
         "3",
         "6",
         "8",
         "1",
         "2",
         "2",
         "2",
         "2",
         "3",
         "2",
         "7",
         "8",
         "4",
         "2",
         "2",
         "-2",
         "1",
         "1",
         "1",
         "1",
         "1",
         "1",
         "1",
         "10",
         "5",
         "5",
         "10",
         "5",
         "9",
         "1",
         "6",
         "10",
         "1",
         "10",
         "2",
         "10",
         "1",
         "1",
         "1",
         "2",
         "2",
         "1",
         "1",
         "1",
         "4",
         "3",
         "1",
         "-4",
         "1",
         "2",
         "3",
         "3",
         "3",
         "2",
         "2",
         "3",
         "2",
         "2",
         "2",
         "3",
         "3",
         "1",
         "1",
         "36003",
         "36003",
         "36003",
         "1",
         "4",
         "4",
         "4",
         "4",
         "2",
         "1",
         "1",
         "4",
         "4",
         "3",
         "5",
         "4",
         "4",
         "1",
         "4",
         "4",
         "10",
         "2",
         "3",
         "10",
         "1",
         "10",
         "1",
         "1",
         "1",
         "1",
         "10",
         "1",
         "1",
         "4",
         "1",
         "2",
         "2",
         "1",
         "4",
         "4",
         "1",
         "1957",
         "60",
         "5",
         "3",
         "1",
         "1",
         "1",
         "1",
         "1",
         "36",
         "AU",
         "36",
         "AU",
         "36",
         "AU",
         "-4",
         "2",
         "1",
         "1240",
         "1",
         "2",
         "3.0",
         "-4",
         "2",
         "3",
         "-4",
         "2",
         "4.0",
         "-4",
         "2",
         "2.0",
         "-4",
         "1",
         "4",
         "7",
         "5",
         "8",
         "10",
         "1",
         "2",
         "1",
         "4",
         "6",
         "2",
         "0",
         "100000020",
         "36001",
         "-4",
         "-4",
         "-4",
         "-4",
         "-4",
         "-4",
         "-4",
         "-4",
         "-4",
         "-4",
         "-4",
         "-4",
         "-4",
         "-4",
         "-4",
         "-4",
         "-4",
         "-4",
         "-4",
         "-4",
         "-4",
         "-4",
         "-4",
         "-4",
         "-4",
         "-4",
         "-4",
         "-4",
         "-4",
         "-4",
         "-4",
         "-4",
         "-4",
         "-4",
         "-4",
         "-4",
         "2",
         "2",
         "1",
         "0.276667",
         "0.482407",
         "0.0",
         "0.0",
         "0.33",
         "0.11",
         "0.66",
         "1.0",
         "1.0",
         "0.886667",
         "0.0",
         "0.0",
         "0.0",
         "0.0",
         "0.0",
         "0.0",
         "0.33",
         "0.11",
         "1.0",
         "1.0",
         "1.0",
         "1.0",
         "0.25",
         "0.0",
         "0.66",
         "0.303333",
         "0.0",
         "0.444444",
         "0.444444",
         "0.296296",
         "0.66",
         "0.0",
         "0.33",
         "0.33",
         "1.0",
         "1.0",
         "2.0",
         "3.0",
         "97.0",
         "1.0",
         "40.0",
         "1.0",
         "57.0",
         "10.0",
         "0.0",
         "10.0",
         "117.0",
         "5.0",
         "0.8",
         "77.0",
         "70.1763",
         "-9999.0",
         "-9999.0",
         "-9999.0",
         "-9999.0",
         "-9999.0",
         "-9999.0",
         "-9999.0",
         "-9999.0",
         "-9999.0",
         "-9999.0",
         "-9999.0",
         "-9999.0",
         "7.0",
         "4.0",
         "7692020.0",
         "53320.27",
         "49756.31",
         "34.4",
         "27.8",
         "17065100.0",
         "19153000.0",
         "25364307.0",
         "82.75",
         "1.52",
         "86.12",
         "13414956.0",
         "6.3",
         "5.33",
         "5.22",
         "5.27",
         "100.0",
         "100.0",
         "13.64",
         "375907.84",
         "15.54",
         "14.0",
         "1.89",
         "45.69",
         "9.21",
         "5.3",
         "37.9",
         "12.7",
         "0.923",
         "10.0",
         "0.103",
         "0.975",
         "30.46",
         "0.938",
         "0.92",
         "7.9",
         "0.974",
         "0.8",
         "0.0",
         "86.5",
         "113.6",
         "6.4",
         "1.0",
         "0.0",
         "0.0",
         "0.838",
         "0.789",
         "0.602",
         "0.737",
         "0.706",
         "0.88",
         "0.891",
         "0.943",
         "0.969",
         "0.832",
         "0.829",
         "2.047",
         "2.472",
         "2.335",
         "2.861",
         "2.236",
         "1.21",
         "1.124",
         "2.051",
         "2.08",
         "2.417",
         "1.457",
         "0.833",
         "0.774",
         "1.782",
         "1.557",
         "1.383",
         "-9999.0",
         "-9999.0",
         "-9999.0",
         "-9999.0",
         "-9999.0",
         "-9999.0",
         "-9999.0",
         "0.037",
         "0.923",
         "0.944",
         "0.991",
         "0.987",
         "0.975",
         "1.27",
         "0.91",
         "1.56",
         "1.87",
         "1.73",
         "1.82",
         "36.0",
         "338.0",
         "National Party of Australia",
         "NAT",
         "AUS_ National Party of Australia",
         "AUS_ NAT",
         "4.0",
         "3.0",
         "4.0",
         "2.0",
         "2.0",
         "7.1",
         "8.0",
         "5.25",
         "6.3",
         "7.7",
         "7.0",
         "7.75",
         "4.7",
         "4.66666666666667",
         "6.77777777777778",
         "2.9",
         "7.0",
         "5.96693646070975",
         "5.86152021544488",
         "72.0293745821677",
         "5.42",
         "5.0834",
         "2.043",
         "1.737",
         "1.676",
         "2.525",
         "2.354",
         "0.059",
         "0.927",
         "AUS",
         "Australia",
         "2018",
         "84.54",
         "0.3888888888888889",
         "0.5185185185185186",
         "0.6666666666666667",
         "1.0",
         "0.3333333333333333",
         "0.5",
         "0.75",
         "1.0",
         "1",
         "0",
         "0",
         "0",
         "0",
         "0",
         "0",
         "0",
         "0",
         "0",
         "1",
         "1",
         "60",
         "0",
         "0",
         "0",
         "0",
         "1",
         "0",
         "0",
         "1",
         "0",
         "0.0",
         "0",
         "0",
         "0",
         "1",
         "1",
         "0",
         "0.6666666666666667",
         "0.6666666666666669",
         "1.0",
         "0.888888888888889",
         "3.0",
         "4.0",
         "2.0"
        ],
        [
         "1",
         "1",
         "6-0-0 (2024-04-30)",
         "doi.org/10.14281/18241.24",
         "7",
         "2018",
         "2",
         "36",
         "AUS",
         "900",
         "AUL",
         "36070001",
         "36720003",
         "20180413",
         "201804",
         "201808",
         "-3.0",
         "-3.0",
         "-3",
         "4",
         "36001",
         "36002",
         "-4",
         "-3",
         "-4.0",
         "8",
         "5",
         "1",
         "1",
         "-4",
         "-4.0",
         "-4.0",
         "-3",
         "1240",
         "en",
         "1",
         "-4",
         "-4",
         "1.116450945",
         "0.551572",
         "1.16704500827358",
         "362018",
         "1",
         "1",
         "1",
         "1",
         "1",
         "3",
         "1",
         "1",
         "1",
         "1",
         "1",
         "2",
         "2",
         "2",
         "2",
         "2",
         "2",
         "1",
         "2",
         "1",
         "2",
         "1",
         "2",
         "1",
         "1",
         "2",
         "1",
         "3",
         "3",
         "3",
         "3",
         "3",
         "4",
         "2",
         "4",
         "2",
         "4",
         "2",
         "4",
         "4",
         "4",
         "3",
         "3",
         "3",
         "2",
         "2",
         "2",
         "2",
         "2",
         "1",
         "10",
         "10",
         "-2",
         "0.0",
         "0.0",
         "0.0",
         "0.0",
         "0.0",
         "1.0",
         "1",
         "0.0",
         "0.3333333333333333",
         "0.3333333333333333",
         "0.3333333333333333",
         "0.3333333333333333",
         "0.3333333333333333",
         "0.6666666666666667",
         "0.3333333333333333",
         "0.3333333333333333",
         "0.3333333333333333",
         "0.3333333333333333",
         "0.0",
         "0.0",
         "0.0",
         "0.3333333333333333",
         "0.3333333333333333",
         "0.3333333333333333",
         "0.3333333333333333",
         "0.3333333333333333",
         "0.3333333333333333",
         "0.3333333333333333",
         "0.3333333333333333",
         "0.3333333333333333",
         "0.3333333333333333",
         null,
         "-4",
         "-4",
         "-4",
         "-4",
         "-4",
         "-4",
         "-4",
         "-4",
         "-4",
         "-4",
         "-4",
         "-4",
         "-4",
         "-4",
         "-4",
         "-4",
         "-4",
         "0.3333333333333333",
         "0.3333333333333333",
         "0.3333333333333333",
         "0.3333333333333333",
         "0.3333333333333333",
         "0.3333333333333333",
         "0.3333333333333333",
         "6",
         "3",
         "3",
         "2",
         "0",
         "0",
         "0",
         "0",
         "0",
         "0",
         "0",
         "0",
         "0",
         "0",
         "0",
         "0",
         "0",
         "0",
         "0",
         "0",
         "0",
         "0",
         "0",
         "0",
         "0",
         "0",
         "0",
         "0",
         "1",
         "5",
         "6",
         "2",
         "2",
         "1",
         "0.1111111111111111",
         "0.0",
         "0.0",
         "0.0",
         "0.0",
         "0.0",
         "0.3333333333333333",
         "0.3333333333333333",
         "10",
         "0.25",
         "1.0",
         "1.0",
         "0.0",
         "1.0",
         "0.0",
         "0.0",
         "0.0",
         "0.0",
         "1",
         "1.0",
         "1.0",
         "1.0",
         "1.0",
         "1.0",
         "1.0",
         "1.0",
         "1.0",
         "1.0",
         "2.0",
         "2.0",
         "1.0",
         "1.0",
         "2.0",
         "2.0",
         "1.0",
         "1.0",
         "1.0",
         "1",
         "1",
         "2.0",
         "1",
         "4",
         "3",
         "1",
         "1",
         "4",
         "5",
         "5",
         "6",
         "6",
         "5",
         "5",
         "5",
         "2",
         "2",
         "2",
         "2",
         "3",
         "3",
         "7",
         "8",
         "4",
         "2",
         "1",
         "1",
         "5",
         "5",
         "5",
         "5",
         "5",
         "5",
         "6",
         "6",
         "6",
         "5",
         "5",
         "6",
         "5",
         "5",
         "5",
         "6",
         "5",
         "6",
         "5",
         "6",
         "2",
         "3",
         "4",
         "2",
         "2",
         "1",
         "1",
         "5",
         "1",
         "1",
         "1",
         "-4",
         "1",
         "3",
         "3",
         "3",
         "3",
         "3",
         "2",
         "2",
         "2",
         "2",
         "2",
         "2",
         "2",
         "1",
         "1",
         "36002",
         "36002",
         "36002",
         "1",
         "1",
         "1",
         "4",
         "2",
         "2",
         "2",
         "2",
         "2",
         "1",
         "2",
         "3",
         "2",
         "2",
         "2",
         "3",
         "2",
         "6",
         "5",
         "5",
         "5",
         "5",
         "5",
         "5",
         "5",
         "5",
         "5",
         "6",
         "5",
         "5",
         "2",
         "2",
         "2",
         "2",
         "2",
         "2",
         "2",
         "1",
         "1977",
         "41",
         "3",
         "2",
         "1",
         "2",
         "0",
         "2",
         "0",
         "9999",
         "-1",
         "9999",
         "OTH",
         "9999",
         "OTH",
         "-4",
         "3",
         "1",
         "2940",
         "1",
         "1",
         "7.0",
         "-4",
         "3",
         "8",
         "-4",
         "3",
         "6.0",
         "-4",
         "3",
         "6.0",
         "-4",
         "3",
         "1",
         "1",
         "1",
         "1",
         "1",
         "2",
         "2",
         "1",
         "2",
         "5",
         "2",
         "6",
         "60000000",
         "36003",
         "-4",
         "-4",
         "-4",
         "-4",
         "-4",
         "-4",
         "-4",
         "-4",
         "-4",
         "-4",
         "-4",
         "-4",
         "-4",
         "-4",
         "-4",
         "-4",
         "-4",
         "-4",
         "-4",
         "-4",
         "-4",
         "-4",
         "-4",
         "-4",
         "-4",
         "-4",
         "-4",
         "-4",
         "-4",
         "-4",
         "-4",
         "-4",
         "-4",
         "-4",
         "-4",
         "-4",
         "0",
         "1",
         "1",
         "0.568333",
         "0.55213",
         "0.5",
         "0.33",
         "0.0",
         "0.276667",
         "0.66",
         "1.0",
         "1.0",
         "0.886667",
         "1.0",
         "1.0",
         "1.0",
         "1.0",
         "0.33",
         "0.0",
         "0.0",
         "0.11",
         "1.0",
         "1.0",
         "1.0",
         "1.0",
         "0.75",
         "0.66",
         "0.66",
         "0.69",
         "0.555556",
         "0.555556",
         "0.444444",
         "0.518519",
         "0.0",
         "0.0",
         "0.0",
         "0.0",
         "1.0",
         "1.0",
         "2.0",
         "3.0",
         "97.0",
         "1.0",
         "40.0",
         "1.0",
         "57.0",
         "10.0",
         "0.0",
         "10.0",
         "117.0",
         "5.0",
         "0.8",
         "77.0",
         "70.1763",
         "-9999.0",
         "-9999.0",
         "-9999.0",
         "-9999.0",
         "-9999.0",
         "-9999.0",
         "-9999.0",
         "-9999.0",
         "-9999.0",
         "-9999.0",
         "-9999.0",
         "-9999.0",
         "7.0",
         "4.0",
         "7692020.0",
         "53320.27",
         "49756.31",
         "34.4",
         "27.8",
         "17065100.0",
         "19153000.0",
         "25364307.0",
         "82.75",
         "1.52",
         "86.12",
         "13414956.0",
         "6.3",
         "5.33",
         "5.22",
         "5.27",
         "100.0",
         "100.0",
         "13.64",
         "375907.84",
         "15.54",
         "14.0",
         "1.89",
         "45.69",
         "9.21",
         "5.3",
         "37.9",
         "12.7",
         "0.923",
         "10.0",
         "0.103",
         "0.975",
         "30.46",
         "0.938",
         "0.92",
         "7.9",
         "0.974",
         "0.8",
         "0.0",
         "86.5",
         "113.6",
         "6.4",
         "1.0",
         "0.0",
         "0.0",
         "0.838",
         "0.789",
         "0.602",
         "0.737",
         "0.706",
         "0.88",
         "0.891",
         "0.943",
         "0.969",
         "0.832",
         "0.829",
         "2.047",
         "2.472",
         "2.335",
         "2.861",
         "2.236",
         "1.21",
         "1.124",
         "2.051",
         "2.08",
         "2.417",
         "1.457",
         "0.833",
         "0.774",
         "1.782",
         "1.557",
         "1.383",
         "-9999.0",
         "-9999.0",
         "-9999.0",
         "-9999.0",
         "-9999.0",
         "-9999.0",
         "-9999.0",
         "0.037",
         "0.923",
         "0.944",
         "0.991",
         "0.987",
         "0.975",
         "1.27",
         "0.91",
         "1.56",
         "1.87",
         "1.73",
         "1.82",
         "35.0",
         "1998.0",
         "Liberal Party of Australia",
         "LP",
         "AUS_ Liberal Party of Australia",
         "AUS_ LP",
         "4.0",
         "2.0",
         "2.0",
         "3.0",
         "3.0",
         "7.81818181818182",
         "7.5",
         "4.81818181818182",
         "5.77777777777778",
         "7.18181818181818",
         "7.85714285714286",
         "5.85714285714286",
         "5.3",
         "3.25",
         "5.66666666666667",
         "2.3",
         "5.2",
         "6.2296279812078",
         "5.01458686314449",
         "68.2093316795563",
         "5.42",
         "5.0834",
         "2.043",
         "1.737",
         "1.676",
         "2.525",
         "2.354",
         "0.059",
         "0.927",
         "AUS",
         "Australia",
         "2018",
         "84.54",
         "0.2777777777777777",
         "0.2962962962962962",
         "0.3333333333333333",
         "0.1111111111111111",
         "0.0",
         "0.25",
         "0.75",
         "0.0",
         "0",
         "0",
         "0",
         "0",
         "0",
         "0",
         "1",
         "0",
         "0",
         "0",
         "0",
         "1",
         "41",
         "0",
         "1",
         "1",
         "0",
         "1",
         "0",
         "0",
         "1",
         "0",
         "0.0",
         "0",
         "1",
         "1",
         "1",
         "1",
         "1",
         "1.0",
         "1.0",
         "1.0",
         "1.0",
         "7.0",
         "6.0",
         "6.0"
        ],
        [
         "2",
         "2",
         "6-0-0 (2024-04-30)",
         "doi.org/10.14281/18241.24",
         "7",
         "2018",
         "2",
         "36",
         "AUS",
         "900",
         "AUL",
         "36070002",
         "36720004",
         "20180706",
         "201804",
         "201808",
         "-3.0",
         "-3.0",
         "-3",
         "4",
         "36001",
         "36002",
         "-4",
         "-3",
         "-4.0",
         "7",
         "4",
         "1",
         "1",
         "-4",
         "-4.0",
         "-4.0",
         "-3",
         "1240",
         "en",
         "2",
         "-4",
         "-4",
         "0.591648749",
         "0.551572",
         "1.16704500827358",
         "362018",
         "1",
         "1",
         "1",
         "2",
         "1",
         "2",
         "1",
         "1",
         "2",
         "1",
         "2",
         "1",
         "2",
         "1",
         "2",
         "2",
         "2",
         "1",
         "2",
         "2",
         "2",
         "2",
         "2",
         "1",
         "2",
         "2",
         "3",
         "4",
         "4",
         "4",
         "4",
         "3",
         "4",
         "2",
         "5",
         "2",
         "5",
         "2",
         "1",
         "4",
         "2",
         "3",
         "3",
         "3",
         "2",
         "2",
         "3",
         "2",
         "2",
         "2",
         "8",
         "8",
         "9",
         "0.3333333333333333",
         "0.0",
         "0.0",
         "0.3333333333333333",
         "0.0",
         "1.0",
         "1",
         "0.0",
         "0.3333333333333333",
         "0.0",
         "0.3333333333333333",
         "0.3333333333333333",
         "0.3333333333333333",
         "0.3333333333333333",
         "0.6666666666666667",
         "0.6666666666666667",
         "0.6666666666666667",
         "0.3333333333333333",
         "0.3333333333333333",
         "0.3333333333333333",
         "0.6666666666666667",
         "0.6666666666666667",
         "0.6666666666666667",
         "0.3333333333333333",
         "0.0",
         "0.0",
         "0.6666666666666667",
         "0.6666666666666667",
         "0.0",
         "0.3333333333333333",
         "0.0",
         null,
         "-4",
         "-4",
         "-4",
         "-4",
         "-4",
         "-4",
         "-4",
         "-4",
         "-4",
         "-4",
         "-4",
         "-4",
         "-4",
         "-4",
         "-4",
         "-4",
         "-4",
         "0.3333333333333333",
         "1.0",
         "0.3333333333333333",
         "0.3333333333333333",
         "0.6666666666666667",
         "0.3333333333333333",
         "0.6666666666666667",
         "5",
         "3",
         "1",
         "2",
         "0",
         "0",
         "0",
         "0",
         "1",
         "1",
         "0",
         "0",
         "0",
         "0",
         "1",
         "1",
         "2",
         "1",
         "1",
         "1",
         "0",
         "0",
         "0",
         "0",
         "0",
         "0",
         "0",
         "0",
         "2",
         "10",
         "1",
         "7",
         "8",
         "1",
         "0.3333333333333333",
         "0.3333333333333333",
         "1.0",
         "0.3333333333333333",
         "0.3333333333333333",
         "0.3333333333333333",
         "0.0",
         "0.3333333333333333",
         "9",
         "0.0",
         "1.0",
         "1.0",
         "0.0",
         "1.0",
         "1.0",
         "1.0",
         "0.0",
         "1.0",
         "2",
         "0.6666666666666667",
         "1.0",
         "0.6666666666666667",
         "1.0",
         "0.6666666666666667",
         "1.0",
         "1.0",
         "1.0",
         "2.0",
         "1.0",
         "2.0",
         "0.3333333333333333",
         "0.6666666666666667",
         "2.0",
         "2.0",
         "0.6666666666666667",
         "0.6666666666666667",
         "1.0",
         "2",
         "2",
         "2.0",
         "3",
         "1",
         "2",
         "4",
         "2",
         "3",
         "3",
         "4",
         "5",
         "6",
         "1",
         "5",
         "9",
         "1",
         "1",
         "2",
         "2",
         "3",
         "4",
         "7",
         "2",
         "1",
         "2",
         "2",
         "2",
         "5",
         "2",
         "2",
         "1",
         "2",
         "1",
         "10",
         "8",
         "10",
         "10",
         "10",
         "8",
         "10",
         "1",
         "1",
         "1",
         "1",
         "8",
         "1",
         "1",
         "2",
         "3",
         "3",
         "2",
         "2",
         "4",
         "2",
         "5",
         "3",
         "2",
         "2",
         "-4",
         "2",
         "1",
         "2",
         "2",
         "2",
         "2",
         "1",
         "2",
         "1",
         "1",
         "1",
         "2",
         "3",
         "1",
         "1",
         "36001",
         "36001",
         "36001",
         "1",
         "4",
         "2",
         "3",
         "3",
         "1",
         "2",
         "4",
         "3",
         "3",
         "1",
         "4",
         "4",
         "1",
         "4",
         "2",
         "4",
         "1",
         "10",
         "1",
         "10",
         "8",
         "2",
         "10",
         "10",
         "1",
         "10",
         "9",
         "6",
         "3",
         "2",
         "2",
         "2",
         "2",
         "2",
         "2",
         "2",
         "2",
         "1974",
         "43",
         "3",
         "2",
         "1",
         "2",
         "0",
         "2",
         "0",
         "9999",
         "-1",
         "9999",
         "OTH",
         "9999",
         "OTH",
         "-4",
         "2",
         "1",
         "1240",
         "1",
         "0",
         "7.0",
         "-4",
         "3",
         "6",
         "-4",
         "3",
         "6.0",
         "-4",
         "3",
         "7.0",
         "-4",
         "3",
         "1",
         "1",
         "1",
         "3",
         "1",
         "1",
         "2",
         "1",
         "2",
         "7",
         "2",
         "0",
         "100000020",
         "36003",
         "-4",
         "-4",
         "-4",
         "-4",
         "-4",
         "-4",
         "-4",
         "-4",
         "-4",
         "-4",
         "-4",
         "-4",
         "-4",
         "-4",
         "-4",
         "-4",
         "-4",
         "-4",
         "-4",
         "-4",
         "-4",
         "-4",
         "-4",
         "-4",
         "-4",
         "-4",
         "-4",
         "-4",
         "-4",
         "-4",
         "-4",
         "-4",
         "-4",
         "-4",
         "-4",
         "-4",
         "5",
         "3",
         "2",
         "0.595",
         "0.895833",
         "0.5",
         "0.33",
         "0.66",
         "0.496667",
         "0.33",
         "1.0",
         "1.0",
         "0.776667",
         "1.0",
         "1.0",
         "0.0",
         "0.666667",
         "0.66",
         "0.33",
         "0.33",
         "0.44",
         "1.0",
         "0.0",
         "1.0",
         "0.666667",
         "0.75",
         "1.0",
         "1.0",
         "0.916667",
         "1.0",
         "1.0",
         "1.0",
         "1.0",
         "1.0",
         "1.0",
         "1.0",
         "1.0",
         "1.0",
         "1.0",
         "2.0",
         "3.0",
         "97.0",
         "1.0",
         "40.0",
         "1.0",
         "57.0",
         "10.0",
         "0.0",
         "10.0",
         "117.0",
         "5.0",
         "0.8",
         "77.0",
         "70.1763",
         "-9999.0",
         "-9999.0",
         "-9999.0",
         "-9999.0",
         "-9999.0",
         "-9999.0",
         "-9999.0",
         "-9999.0",
         "-9999.0",
         "-9999.0",
         "-9999.0",
         "-9999.0",
         "7.0",
         "4.0",
         "7692020.0",
         "53320.27",
         "49756.31",
         "34.4",
         "27.8",
         "17065100.0",
         "19153000.0",
         "25364307.0",
         "82.75",
         "1.52",
         "86.12",
         "13414956.0",
         "6.3",
         "5.33",
         "5.22",
         "5.27",
         "100.0",
         "100.0",
         "13.64",
         "375907.84",
         "15.54",
         "14.0",
         "1.89",
         "45.69",
         "9.21",
         "5.3",
         "37.9",
         "12.7",
         "0.923",
         "10.0",
         "0.103",
         "0.975",
         "30.46",
         "0.938",
         "0.92",
         "7.9",
         "0.974",
         "0.8",
         "0.0",
         "86.5",
         "113.6",
         "6.4",
         "1.0",
         "0.0",
         "0.0",
         "0.838",
         "0.789",
         "0.602",
         "0.737",
         "0.706",
         "0.88",
         "0.891",
         "0.943",
         "0.969",
         "0.832",
         "0.829",
         "2.047",
         "2.472",
         "2.335",
         "2.861",
         "2.236",
         "1.21",
         "1.124",
         "2.051",
         "2.08",
         "2.417",
         "1.457",
         "0.833",
         "0.774",
         "1.782",
         "1.557",
         "1.383",
         "-9999.0",
         "-9999.0",
         "-9999.0",
         "-9999.0",
         "-9999.0",
         "-9999.0",
         "-9999.0",
         "0.037",
         "0.923",
         "0.944",
         "0.991",
         "0.987",
         "0.975",
         "1.27",
         "0.91",
         "1.56",
         "1.87",
         "1.73",
         "1.82",
         "31.0",
         "424.0",
         "Australian Labor Party",
         "ALP",
         "AUS_ Australian Labor Party",
         "AUS_ ALP",
         "1.0",
         "1.0",
         "1.0",
         "3.0",
         "3.0",
         "3.5",
         "3.08333333333333",
         "2.42857142857143",
         "4.88888888888889",
         "4.57142857142857",
         "2.63636363636364",
         "3.4",
         "7.55555555555556",
         "1.76923076923077",
         "3.09090909090909",
         "2.15384615384615",
         "3.125",
         "4.7212976339133",
         "4.73818701176948",
         "68.2108393407435",
         "5.42",
         "5.0834",
         "2.043",
         "1.737",
         "1.676",
         "2.525",
         "2.354",
         "0.059",
         "0.927",
         "AUS",
         "Australia",
         "2018",
         "84.54",
         "0.2222222222222222",
         "0.4074074074074075",
         "0.5238095238095238",
         "0.3333333333333333",
         "0.4999999999999999",
         "0.0",
         "1.0",
         "0.5",
         "1",
         "1",
         "0",
         "0",
         "0",
         "0",
         "0",
         "0",
         "0",
         "0",
         "0",
         "0",
         "43",
         "0",
         "1",
         "1",
         "0",
         "1",
         "0",
         "0",
         "1",
         "0",
         "0.1333333333333333",
         "1",
         "0",
         "1",
         "1",
         "1",
         "1",
         "0.6666666666666667",
         "0.9047619047619048",
         "0.5",
         "0.7777777777777778",
         "7.0",
         "6.0",
         "7.0"
        ],
        [
         "3",
         "3",
         "6-0-0 (2024-04-30)",
         "doi.org/10.14281/18241.24",
         "7",
         "2018",
         "2",
         "36",
         "AUS",
         "900",
         "AUL",
         "36070003",
         "36720005",
         "20180607",
         "201804",
         "201808",
         "-3.0",
         "-3.0",
         "-3",
         "4",
         "36001",
         "36002",
         "-4",
         "-3",
         "-4.0",
         "6",
         "3",
         "1",
         "1",
         "-4",
         "-4.0",
         "-4.0",
         "-3",
         "1240",
         "en",
         "2",
         "-4",
         "-4",
         "1.589661594",
         "0.551572",
         "1.16704500827358",
         "362018",
         "1",
         "1",
         "2",
         "2",
         "1",
         "4",
         "1",
         "1",
         "1",
         "1",
         "2",
         "2",
         "2",
         "2",
         "2",
         "1",
         "2",
         "1",
         "2",
         "2",
         "2",
         "2",
         "2",
         "1",
         "2",
         "2",
         "2",
         "2",
         "3",
         "4",
         "3",
         "3",
         "4",
         "2",
         "2",
         "1",
         "4",
         "2",
         "2",
         "3",
         "2",
         "1",
         "1",
         "3",
         "2",
         "1",
         "1",
         "1",
         "2",
         "1",
         "10",
         "10",
         "9",
         "0.0",
         "0.0",
         "0.0",
         "0.0",
         "0.0",
         "1.0",
         "2",
         "0.0",
         "0.3333333333333333",
         "0.0",
         "0.3333333333333333",
         "0.6666666666666667",
         "0.6666666666666667",
         "0.6666666666666667",
         "1.0",
         "0.6666666666666667",
         "0.6666666666666667",
         "0.6666666666666667",
         "0.6666666666666667",
         "0.6666666666666667",
         "0.3333333333333333",
         "0.6666666666666667",
         "0.3333333333333333",
         "0.3333333333333333",
         "0.3333333333333333",
         "0.3333333333333333",
         "0.3333333333333333",
         "0.3333333333333333",
         "0.3333333333333333",
         "0.3333333333333333",
         "0.3333333333333333",
         null,
         "-4",
         "-4",
         "-4",
         "-4",
         "-4",
         "-4",
         "-4",
         "-4",
         "-4",
         "-4",
         "-4",
         "-4",
         "-4",
         "-4",
         "-4",
         "-4",
         "-4",
         "0.6666666666666667",
         "0.6666666666666667",
         "0.6666666666666667",
         "0.6666666666666667",
         "0.6666666666666667",
         "0.3333333333333333",
         "0.6666666666666667",
         "7",
         "3",
         "1",
         "2",
         "0",
         "0",
         "0",
         "0",
         "0",
         "0",
         "0",
         "0",
         "0",
         "0",
         "0",
         "0",
         "0",
         "0",
         "0",
         "0",
         "0",
         "0",
         "0",
         "0",
         "0",
         "0",
         "0",
         "0",
         "8",
         "5",
         "8",
         "5",
         "2",
         "1",
         "0.4444444444444445",
         "0.3333333333333333",
         "0.3333333333333333",
         "0.3333333333333333",
         "0.3333333333333333",
         "0.3333333333333333",
         "0.3333333333333333",
         "0.6666666666666667",
         "5",
         "0.25",
         "1.0",
         "1.0",
         "1.0",
         "0.0",
         "1.0",
         "1.0",
         "0.0",
         "1.0",
         "2",
         "0.6666666666666667",
         "1.0",
         "0.6666666666666667",
         "1.0",
         "1.0",
         "1.0",
         "1.0",
         "1.0",
         "1.0",
         "1.0",
         "2.0",
         "0.3333333333333333",
         "1.0",
         "2.0",
         "2.0",
         "1.0",
         "0.3333333333333333",
         "1.0",
         "1",
         "2",
         "2.0",
         "3",
         "1",
         "3",
         "2",
         "1",
         "3",
         "10",
         "9",
         "-2",
         "5",
         "1",
         "10",
         "1",
         "2",
         "2",
         "-2",
         "2",
         "3",
         "3",
         "7",
         "7",
         "4",
         "2",
         "2",
         "2",
         "5",
         "9",
         "5",
         "9",
         "5",
         "5",
         "5",
         "5",
         "5",
         "5",
         "5",
         "7",
         "5",
         "10",
         "10",
         "10",
         "5",
         "5",
         "5",
         "5",
         "2",
         "3",
         "2",
         "3",
         "3",
         "4",
         "1",
         "1",
         "1",
         "1",
         "1",
         "-4",
         "2",
         "3",
         "3",
         "-2",
         "3",
         "2",
         "3",
         "3",
         "3",
         "3",
         "3",
         "3",
         "3",
         "4",
         "4",
         "36001",
         "36001",
         "36001",
         "1",
         "2",
         "3",
         "3",
         "1",
         "1",
         "3",
         "3",
         "1",
         "1",
         "1",
         "1",
         "3",
         "2",
         "4",
         "1",
         "4",
         "5",
         "7",
         "6",
         "10",
         "9",
         "6",
         "10",
         "7",
         "10",
         "10",
         "10",
         "10",
         "10",
         "1",
         "5",
         "2",
         "1",
         "-2",
         "1",
         "2",
         "2",
         "1970",
         "48",
         "4",
         "2",
         "2",
         "2",
         "0",
         "2",
         "0",
         "9999",
         "-1",
         "9999",
         "OTH",
         "9999",
         "OTH",
         "-4",
         "4",
         "1",
         "1240",
         "1",
         "2",
         "4.0",
         "-4",
         "2",
         "6",
         "-4",
         "3",
         "3.0",
         "-4",
         "2",
         "3.0",
         "-4",
         "2",
         "2",
         "1",
         "8",
         "1",
         "3",
         "2",
         "2",
         "4",
         "4",
         "6",
         "2",
         "7",
         "70000000",
         "36004",
         "-4",
         "-4",
         "-4",
         "-4",
         "-4",
         "-4",
         "-4",
         "-4",
         "-4",
         "-4",
         "-4",
         "-4",
         "-4",
         "-4",
         "-4",
         "-4",
         "-4",
         "-4",
         "-4",
         "-4",
         "-4",
         "-4",
         "-4",
         "-4",
         "-4",
         "-4",
         "-4",
         "-4",
         "-4",
         "-4",
         "-4",
         "-4",
         "-4",
         "-4",
         "-4",
         "-4",
         "3",
         "2",
         "1",
         "0.750781",
         "0.644861",
         "0.0",
         null,
         "0.33",
         "0.22979",
         "1.0",
         "1.0",
         "1.0",
         "1.0",
         "1.0",
         "1.0",
         "1.0",
         "1.0",
         "1.0",
         "0.66",
         "0.66",
         "0.773333",
         "1.0",
         "0.0",
         "1.0",
         "0.666667",
         "0.75",
         "0.66",
         "1.0",
         "0.803333",
         "0.444444",
         "0.444444",
         "0.444444",
         "0.444444",
         "0.33",
         "1.0",
         "0.665",
         "0.665",
         "0.915",
         "1.0",
         "2.0",
         "3.0",
         "97.0",
         "1.0",
         "40.0",
         "1.0",
         "57.0",
         "10.0",
         "0.0",
         "10.0",
         "117.0",
         "5.0",
         "0.8",
         "77.0",
         "70.1763",
         "-9999.0",
         "-9999.0",
         "-9999.0",
         "-9999.0",
         "-9999.0",
         "-9999.0",
         "-9999.0",
         "-9999.0",
         "-9999.0",
         "-9999.0",
         "-9999.0",
         "-9999.0",
         "7.0",
         "4.0",
         "7692020.0",
         "53320.27",
         "49756.31",
         "34.4",
         "27.8",
         "17065100.0",
         "19153000.0",
         "25364307.0",
         "82.75",
         "1.52",
         "86.12",
         "13414956.0",
         "6.3",
         "5.33",
         "5.22",
         "5.27",
         "100.0",
         "100.0",
         "13.64",
         "375907.84",
         "15.54",
         "14.0",
         "1.89",
         "45.69",
         "9.21",
         "5.3",
         "37.9",
         "12.7",
         "0.923",
         "10.0",
         "0.103",
         "0.975",
         "30.46",
         "0.938",
         "0.92",
         "7.9",
         "0.974",
         "0.8",
         "0.0",
         "86.5",
         "113.6",
         "6.4",
         "1.0",
         "0.0",
         "0.0",
         "0.838",
         "0.789",
         "0.602",
         "0.737",
         "0.706",
         "0.88",
         "0.891",
         "0.943",
         "0.969",
         "0.832",
         "0.829",
         "2.047",
         "2.472",
         "2.335",
         "2.861",
         "2.236",
         "1.21",
         "1.124",
         "2.051",
         "2.08",
         "2.417",
         "1.457",
         "0.833",
         "0.774",
         "1.782",
         "1.557",
         "1.383",
         "-9999.0",
         "-9999.0",
         "-9999.0",
         "-9999.0",
         "-9999.0",
         "-9999.0",
         "-9999.0",
         "0.037",
         "0.923",
         "0.944",
         "0.991",
         "0.987",
         "0.975",
         "1.27",
         "0.91",
         "1.56",
         "1.87",
         "1.73",
         "1.82",
         "31.0",
         "424.0",
         "Australian Labor Party",
         "ALP",
         "AUS_ Australian Labor Party",
         "AUS_ ALP",
         "1.0",
         "1.0",
         "1.0",
         "3.0",
         "3.0",
         "3.5",
         "3.08333333333333",
         "2.42857142857143",
         "4.88888888888889",
         "4.57142857142857",
         "2.63636363636364",
         "3.4",
         "7.55555555555556",
         "1.76923076923077",
         "3.09090909090909",
         "2.15384615384615",
         "3.125",
         "4.7212976339133",
         "4.73818701176948",
         "68.2108393407435",
         "5.42",
         "5.0834",
         "2.043",
         "1.737",
         "1.676",
         "2.525",
         "2.354",
         "0.059",
         "0.927",
         "AUS",
         "Australia",
         "2018",
         "84.54",
         "0.3333333333333333",
         "0.5",
         "0.6190476190476192",
         "0.4444444444444445",
         "0.3333333333333333",
         "0.25",
         "0.75",
         "0.75",
         "1",
         "0",
         "0",
         "0",
         "0",
         "1",
         "0",
         "0",
         "0",
         "0",
         "0",
         "0",
         "48",
         "1",
         "1",
         "1",
         "0",
         "1",
         "0",
         "0",
         "1",
         "0",
         "0.0",
         "0",
         "0",
         "1",
         "1",
         "1",
         "1",
         "0.6666666666666667",
         "0.9523809523809524",
         "0.6666666666666666",
         "0.7777777777777777",
         "4.0",
         "3.0",
         "3.0"
        ],
        [
         "4",
         "4",
         "6-0-0 (2024-04-30)",
         "doi.org/10.14281/18241.24",
         "7",
         "2018",
         "2",
         "36",
         "AUS",
         "900",
         "AUL",
         "36070004",
         "36720006",
         "20180426",
         "201804",
         "201808",
         "-3.0",
         "-3.0",
         "-3",
         "4",
         "36001",
         "36002",
         "-4",
         "-3",
         "-4.0",
         "6",
         "3",
         "1",
         "1",
         "-4",
         "-4.0",
         "-4.0",
         "-3",
         "1240",
         "en",
         "2",
         "-4",
         "-4",
         "0.606582478",
         "0.551572",
         "1.16704500827358",
         "362018",
         "1",
         "2",
         "3",
         "3",
         "1",
         "1",
         "1",
         "2",
         "1",
         "1",
         "2",
         "1",
         "2",
         "2",
         "1",
         "2",
         "2",
         "2",
         "1",
         "2",
         "2",
         "2",
         "1",
         "2",
         "2",
         "1",
         "1",
         "2",
         "3",
         "3",
         "3",
         "1",
         "4",
         "2",
         "3",
         "3",
         "4",
         "2",
         "4",
         "-2",
         "3",
         "1",
         "1",
         "2",
         "2",
         "1",
         "1",
         "2",
         "2",
         "3",
         "8",
         "8",
         "8",
         "0.0",
         "0.0",
         "0.0",
         "0.0",
         "0.0",
         "1.0",
         "1",
         "0.0",
         "0.3333333333333333",
         "0.0",
         "0.6666666666666667",
         "0.6666666666666667",
         "0.6666666666666667",
         "0.3333333333333333",
         "0.3333333333333333",
         "0.6666666666666667",
         "0.6666666666666667",
         "0.6666666666666667",
         "0.6666666666666667",
         "0.6666666666666667",
         "0.6666666666666667",
         "1.0",
         "0.6666666666666667",
         "0.6666666666666667",
         "0.6666666666666667",
         "0.3333333333333333",
         "0.6666666666666667",
         "0.3333333333333333",
         "0.3333333333333333",
         "0.3333333333333333",
         "0.3333333333333333",
         null,
         "-4",
         "-4",
         "-4",
         "-4",
         "-4",
         "-4",
         "-4",
         "-4",
         "-4",
         "-4",
         "-4",
         "-4",
         "-4",
         "-4",
         "-4",
         "-4",
         "-4",
         "0.6666666666666667",
         "0.6666666666666667",
         "0.6666666666666667",
         "0.6666666666666667",
         "0.6666666666666667",
         "0.3333333333333333",
         "1.0",
         "6",
         "3",
         "3",
         "2",
         "2",
         "1",
         "0",
         "0",
         "2",
         "1",
         "0",
         "0",
         "0",
         "0",
         "0",
         "0",
         "1",
         "1",
         "0",
         "0",
         "0",
         "0",
         "0",
         "0",
         "0",
         "0",
         "0",
         "0",
         "2",
         "5",
         "1",
         "3",
         "2",
         "1",
         "0.7777777777777777",
         "0.3333333333333333",
         "0.3333333333333333",
         "0.6666666666666667",
         "0.3333333333333333",
         "0.6666666666666667",
         "0.3333333333333333",
         "0.3333333333333333",
         "6",
         "0.25",
         "0.0",
         "1.0",
         "0.0",
         "1.0",
         "0.0",
         "1.0",
         "0.0",
         "0.0",
         "3",
         "0.6666666666666667",
         "1.0",
         "0.6666666666666667",
         "0.6666666666666667",
         "0.6666666666666667",
         "1.0",
         "1.0",
         "1.0",
         "1.0",
         "2.0",
         "2.0",
         "1.0",
         "1.0",
         "2.0",
         "2.0",
         "1.0",
         "0.6666666666666667",
         "1.0",
         "1",
         "1",
         "1.0",
         "3",
         "1",
         "2",
         "3",
         "1",
         "4",
         "3",
         "2",
         "3",
         "8",
         "10",
         "5",
         "10",
         "1",
         "1",
         "1",
         "1",
         "2",
         "2",
         "2",
         "1",
         "1",
         "1",
         "1",
         "1",
         "1",
         "1",
         "1",
         "1",
         "1",
         "1",
         "1",
         "1",
         "1",
         "3",
         "1",
         "3",
         "3",
         "1",
         "3",
         "3",
         "1",
         "1",
         "3",
         "3",
         "2",
         "4",
         "4",
         "2",
         "2",
         "2",
         "1",
         "1",
         "3",
         "3",
         "1",
         "-4",
         "3",
         "1",
         "1",
         "2",
         "2",
         "2",
         "2",
         "2",
         "1",
         "1",
         "2",
         "1",
         "2",
         "1",
         "1",
         "36002",
         "36002",
         "36002",
         "2",
         "3",
         "1",
         "2",
         "3",
         "3",
         "3",
         "3",
         "3",
         "2",
         "1",
         "3",
         "2",
         "1",
         "4",
         "1",
         "4",
         "5",
         "9",
         "1",
         "10",
         "7",
         "1",
         "7",
         "5",
         "5",
         "10",
         "9",
         "7",
         "6",
         "2",
         "1",
         "3",
         "2",
         "2",
         "2",
         "2",
         "1",
         "1960",
         "57",
         "5",
         "3",
         "1",
         "2",
         "0",
         "2",
         "0",
         "9999",
         "-1",
         "9999",
         "OTH",
         "9999",
         "OTH",
         "-4",
         "3",
         "1",
         "790",
         "1",
         "3",
         "7.0",
         "-4",
         "3",
         "4",
         "-4",
         "2",
         "2.0",
         "-4",
         "1",
         "3.0",
         "-4",
         "2",
         "1",
         "2",
         "1",
         "3",
         "1",
         "3",
         "1",
         "1",
         "3",
         "7",
         "2",
         "8",
         "80000000",
         "36004",
         "-4",
         "-4",
         "-4",
         "-4",
         "-4",
         "-4",
         "-4",
         "-4",
         "-4",
         "-4",
         "-4",
         "-4",
         "-4",
         "-4",
         "-4",
         "-4",
         "-4",
         "-4",
         "-4",
         "-4",
         "-4",
         "-4",
         "-4",
         "-4",
         "-4",
         "-4",
         "-4",
         "-4",
         "-4",
         "-4",
         "-4",
         "-4",
         "-4",
         "-4",
         "-4",
         "-4",
         "2",
         "2",
         "-1",
         "0.193056",
         "0.481852",
         "0.5",
         "0.0",
         "0.0",
         "0.166667",
         "0.0",
         "0.0",
         "0.166667",
         "0.055556",
         "0.0",
         "0.0",
         "0.0",
         "0.0",
         "0.33",
         "0.66",
         "0.66",
         "0.55",
         "0.0",
         "0.0",
         "1.0",
         "0.333333",
         "0.75",
         "0.66",
         "0.66",
         "0.69",
         "0.0",
         "0.0",
         "0.222222",
         "0.074074",
         "0.66",
         "1.0",
         "0.83",
         "0.83",
         "1.0",
         "1.0",
         "2.0",
         "3.0",
         "97.0",
         "1.0",
         "40.0",
         "1.0",
         "57.0",
         "10.0",
         "0.0",
         "10.0",
         "117.0",
         "5.0",
         "0.8",
         "77.0",
         "70.1763",
         "-9999.0",
         "-9999.0",
         "-9999.0",
         "-9999.0",
         "-9999.0",
         "-9999.0",
         "-9999.0",
         "-9999.0",
         "-9999.0",
         "-9999.0",
         "-9999.0",
         "-9999.0",
         "7.0",
         "4.0",
         "7692020.0",
         "53320.27",
         "49756.31",
         "34.4",
         "27.8",
         "17065100.0",
         "19153000.0",
         "25364307.0",
         "82.75",
         "1.52",
         "86.12",
         "13414956.0",
         "6.3",
         "5.33",
         "5.22",
         "5.27",
         "100.0",
         "100.0",
         "13.64",
         "375907.84",
         "15.54",
         "14.0",
         "1.89",
         "45.69",
         "9.21",
         "5.3",
         "37.9",
         "12.7",
         "0.923",
         "10.0",
         "0.103",
         "0.975",
         "30.46",
         "0.938",
         "0.92",
         "7.9",
         "0.974",
         "0.8",
         "0.0",
         "86.5",
         "113.6",
         "6.4",
         "1.0",
         "0.0",
         "0.0",
         "0.838",
         "0.789",
         "0.602",
         "0.737",
         "0.706",
         "0.88",
         "0.891",
         "0.943",
         "0.969",
         "0.832",
         "0.829",
         "2.047",
         "2.472",
         "2.335",
         "2.861",
         "2.236",
         "1.21",
         "1.124",
         "2.051",
         "2.08",
         "2.417",
         "1.457",
         "0.833",
         "0.774",
         "1.782",
         "1.557",
         "1.383",
         "-9999.0",
         "-9999.0",
         "-9999.0",
         "-9999.0",
         "-9999.0",
         "-9999.0",
         "-9999.0",
         "0.037",
         "0.923",
         "0.944",
         "0.991",
         "0.987",
         "0.975",
         "1.27",
         "0.91",
         "1.56",
         "1.87",
         "1.73",
         "1.82",
         "35.0",
         "1998.0",
         "Liberal Party of Australia",
         "LP",
         "AUS_ Liberal Party of Australia",
         "AUS_ LP",
         "4.0",
         "2.0",
         "2.0",
         "3.0",
         "3.0",
         "7.81818181818182",
         "7.5",
         "4.81818181818182",
         "5.77777777777778",
         "7.18181818181818",
         "7.85714285714286",
         "5.85714285714286",
         "5.3",
         "3.25",
         "5.66666666666667",
         "2.3",
         "5.2",
         "6.2296279812078",
         "5.01458686314449",
         "68.2093316795563",
         "5.42",
         "5.0834",
         "2.043",
         "1.737",
         "1.676",
         "2.525",
         "2.354",
         "0.059",
         "0.927",
         "AUS",
         "Australia",
         "2018",
         "84.54",
         "0.3888888888888889",
         "0.5555555555555558",
         "0.6666666666666667",
         "0.7777777777777777",
         "0.4166666666666667",
         "0.25",
         "0.75",
         "0.0",
         "1",
         "0",
         "0",
         "0",
         "0",
         "1",
         "0",
         "0",
         "0",
         "0",
         "0",
         "1",
         "57",
         "0",
         "1",
         "1",
         "0",
         "1",
         "0",
         "0",
         "1",
         "0",
         "0.0",
         "0",
         "1",
         "1",
         "1",
         "1",
         "0",
         "0.6666666666666667",
         "0.8571428571428571",
         "1.0",
         "0.888888888888889",
         "7.0",
         "2.0",
         "3.0"
        ]
       ],
       "shape": {
        "columns": 662,
        "rows": 5
       }
      },
      "text/html": [
       "<div>\n",
       "<style scoped>\n",
       "    .dataframe tbody tr th:only-of-type {\n",
       "        vertical-align: middle;\n",
       "    }\n",
       "\n",
       "    .dataframe tbody tr th {\n",
       "        vertical-align: top;\n",
       "    }\n",
       "\n",
       "    .dataframe thead th {\n",
       "        text-align: right;\n",
       "    }\n",
       "</style>\n",
       "<table border=\"1\" class=\"dataframe\">\n",
       "  <thead>\n",
       "    <tr style=\"text-align: right;\">\n",
       "      <th></th>\n",
       "      <th>Unnamed: 0</th>\n",
       "      <th>version</th>\n",
       "      <th>doi</th>\n",
       "      <th>A_WAVE</th>\n",
       "      <th>A_YEAR</th>\n",
       "      <th>A_STUDY</th>\n",
       "      <th>B_COUNTRY</th>\n",
       "      <th>B_COUNTRY_ALPHA</th>\n",
       "      <th>C_COW_NUM</th>\n",
       "      <th>C_COW_ALPHA</th>\n",
       "      <th>...</th>\n",
       "      <th>victim_respondent_no</th>\n",
       "      <th>victim_family_no</th>\n",
       "      <th>war_no</th>\n",
       "      <th>baseline_security</th>\n",
       "      <th>security_neighborhood</th>\n",
       "      <th>security_financial</th>\n",
       "      <th>security_war</th>\n",
       "      <th>education</th>\n",
       "      <th>education_mother</th>\n",
       "      <th>education_father</th>\n",
       "    </tr>\n",
       "  </thead>\n",
       "  <tbody>\n",
       "    <tr>\n",
       "      <th>0</th>\n",
       "      <td>0</td>\n",
       "      <td>6-0-0 (2024-04-30)</td>\n",
       "      <td>doi.org/10.14281/18241.24</td>\n",
       "      <td>7</td>\n",
       "      <td>2018</td>\n",
       "      <td>2</td>\n",
       "      <td>36</td>\n",
       "      <td>AUS</td>\n",
       "      <td>900</td>\n",
       "      <td>AUL</td>\n",
       "      <td>...</td>\n",
       "      <td>1</td>\n",
       "      <td>1</td>\n",
       "      <td>0</td>\n",
       "      <td>0.666667</td>\n",
       "      <td>0.666667</td>\n",
       "      <td>1.000000</td>\n",
       "      <td>0.888889</td>\n",
       "      <td>3.0</td>\n",
       "      <td>4.0</td>\n",
       "      <td>2.0</td>\n",
       "    </tr>\n",
       "    <tr>\n",
       "      <th>1</th>\n",
       "      <td>1</td>\n",
       "      <td>6-0-0 (2024-04-30)</td>\n",
       "      <td>doi.org/10.14281/18241.24</td>\n",
       "      <td>7</td>\n",
       "      <td>2018</td>\n",
       "      <td>2</td>\n",
       "      <td>36</td>\n",
       "      <td>AUS</td>\n",
       "      <td>900</td>\n",
       "      <td>AUL</td>\n",
       "      <td>...</td>\n",
       "      <td>1</td>\n",
       "      <td>1</td>\n",
       "      <td>1</td>\n",
       "      <td>1.000000</td>\n",
       "      <td>1.000000</td>\n",
       "      <td>1.000000</td>\n",
       "      <td>1.000000</td>\n",
       "      <td>7.0</td>\n",
       "      <td>6.0</td>\n",
       "      <td>6.0</td>\n",
       "    </tr>\n",
       "    <tr>\n",
       "      <th>2</th>\n",
       "      <td>2</td>\n",
       "      <td>6-0-0 (2024-04-30)</td>\n",
       "      <td>doi.org/10.14281/18241.24</td>\n",
       "      <td>7</td>\n",
       "      <td>2018</td>\n",
       "      <td>2</td>\n",
       "      <td>36</td>\n",
       "      <td>AUS</td>\n",
       "      <td>900</td>\n",
       "      <td>AUL</td>\n",
       "      <td>...</td>\n",
       "      <td>1</td>\n",
       "      <td>1</td>\n",
       "      <td>1</td>\n",
       "      <td>0.666667</td>\n",
       "      <td>0.904762</td>\n",
       "      <td>0.500000</td>\n",
       "      <td>0.777778</td>\n",
       "      <td>7.0</td>\n",
       "      <td>6.0</td>\n",
       "      <td>7.0</td>\n",
       "    </tr>\n",
       "    <tr>\n",
       "      <th>3</th>\n",
       "      <td>3</td>\n",
       "      <td>6-0-0 (2024-04-30)</td>\n",
       "      <td>doi.org/10.14281/18241.24</td>\n",
       "      <td>7</td>\n",
       "      <td>2018</td>\n",
       "      <td>2</td>\n",
       "      <td>36</td>\n",
       "      <td>AUS</td>\n",
       "      <td>900</td>\n",
       "      <td>AUL</td>\n",
       "      <td>...</td>\n",
       "      <td>1</td>\n",
       "      <td>1</td>\n",
       "      <td>1</td>\n",
       "      <td>0.666667</td>\n",
       "      <td>0.952381</td>\n",
       "      <td>0.666667</td>\n",
       "      <td>0.777778</td>\n",
       "      <td>4.0</td>\n",
       "      <td>3.0</td>\n",
       "      <td>3.0</td>\n",
       "    </tr>\n",
       "    <tr>\n",
       "      <th>4</th>\n",
       "      <td>4</td>\n",
       "      <td>6-0-0 (2024-04-30)</td>\n",
       "      <td>doi.org/10.14281/18241.24</td>\n",
       "      <td>7</td>\n",
       "      <td>2018</td>\n",
       "      <td>2</td>\n",
       "      <td>36</td>\n",
       "      <td>AUS</td>\n",
       "      <td>900</td>\n",
       "      <td>AUL</td>\n",
       "      <td>...</td>\n",
       "      <td>1</td>\n",
       "      <td>1</td>\n",
       "      <td>0</td>\n",
       "      <td>0.666667</td>\n",
       "      <td>0.857143</td>\n",
       "      <td>1.000000</td>\n",
       "      <td>0.888889</td>\n",
       "      <td>7.0</td>\n",
       "      <td>2.0</td>\n",
       "      <td>3.0</td>\n",
       "    </tr>\n",
       "  </tbody>\n",
       "</table>\n",
       "<p>5 rows × 662 columns</p>\n",
       "</div>"
      ],
      "text/plain": [
       "   Unnamed: 0             version                        doi  A_WAVE  A_YEAR  \\\n",
       "0           0  6-0-0 (2024-04-30)  doi.org/10.14281/18241.24       7    2018   \n",
       "1           1  6-0-0 (2024-04-30)  doi.org/10.14281/18241.24       7    2018   \n",
       "2           2  6-0-0 (2024-04-30)  doi.org/10.14281/18241.24       7    2018   \n",
       "3           3  6-0-0 (2024-04-30)  doi.org/10.14281/18241.24       7    2018   \n",
       "4           4  6-0-0 (2024-04-30)  doi.org/10.14281/18241.24       7    2018   \n",
       "\n",
       "   A_STUDY  B_COUNTRY B_COUNTRY_ALPHA  C_COW_NUM C_COW_ALPHA  ...  \\\n",
       "0        2         36             AUS        900         AUL  ...   \n",
       "1        2         36             AUS        900         AUL  ...   \n",
       "2        2         36             AUS        900         AUL  ...   \n",
       "3        2         36             AUS        900         AUL  ...   \n",
       "4        2         36             AUS        900         AUL  ...   \n",
       "\n",
       "   victim_respondent_no  victim_family_no  war_no  baseline_security  \\\n",
       "0                     1                 1       0           0.666667   \n",
       "1                     1                 1       1           1.000000   \n",
       "2                     1                 1       1           0.666667   \n",
       "3                     1                 1       1           0.666667   \n",
       "4                     1                 1       0           0.666667   \n",
       "\n",
       "   security_neighborhood  security_financial  security_war  education  \\\n",
       "0               0.666667            1.000000      0.888889        3.0   \n",
       "1               1.000000            1.000000      1.000000        7.0   \n",
       "2               0.904762            0.500000      0.777778        7.0   \n",
       "3               0.952381            0.666667      0.777778        4.0   \n",
       "4               0.857143            1.000000      0.888889        7.0   \n",
       "\n",
       "   education_mother  education_father  \n",
       "0               4.0               2.0  \n",
       "1               6.0               6.0  \n",
       "2               6.0               7.0  \n",
       "3               3.0               3.0  \n",
       "4               2.0               3.0  \n",
       "\n",
       "[5 rows x 662 columns]"
      ]
     },
     "execution_count": 2,
     "metadata": {},
     "output_type": "execute_result"
    }
   ],
   "source": [
    "df = pd.read_csv(\"./data/wvs/wave7.csv\")\n",
    "df.head()"
   ]
  },
  {
   "cell_type": "code",
   "execution_count": 5,
   "metadata": {},
   "outputs": [
    {
     "data": {
      "image/png": "[encoded data removed]",
      "text/plain": [
       "<Figure size 2400x1200 with 1 Axes>"
      ]
     },
     "metadata": {},
     "output_type": "display_data"
    }
   ],
   "source": [
    "plt.figure(figsize=(8,4), dpi=300)\n",
    "plt.rcParams[\"font.family\"] = \"sans-serif\"\n",
    "flierprops = dict(marker='x', markersize=5, markeredgecolor='gray')\n",
    "sns.boxplot(data=df, x=\"Q288\", y=\"national_distrust_index\", saturation=1 , color=\"skyblue\", flierprops=flierprops, linewidth=.7,\n",
    "            linecolor=\"black\")\n",
    "plt.xlabel(\"Income Groups (1=Very low, 10=Very high)\")\n",
    "plt.ylabel(\"National Distrust Index\")\n",
    "plt.title(\"Box plot of National Distrust by Income\")\n",
    "plt.show()"
   ]
  },
  {
   "cell_type": "code",
   "execution_count": 3,
   "metadata": {},
   "outputs": [],
   "source": [
    "from sklearn.preprocessing import MinMaxScaler\n",
    "\n",
    "tf = pd.read_csv(\"./data/wvs/WVS_Time_Series.csv\").query(\"COUNTRY_ALPHA in 'DEU'\")\n",
    "\n",
    "# copying and slightly modifying the attach distrust index function from our utils \n",
    "def attach_national_distrust_index(df: pd.DataFrame) -> pd.DataFrame:\n",
    "  national_trust_questions = [\"E069_12\", \"E069_10\", \"E069_04\", \"E069_02\", \"E069_05\", \"E069_06\", \"E069_07\", \"E069_08\", \"E069_11\", \"E069_17\"]\n",
    "\n",
    "  result = df.copy()\n",
    "\n",
    "  # 1. imputing with median --------------------------------------------\n",
    "  # create a median dict with all the relevant values\n",
    "  median_dict = {}\n",
    "  countries = result.COUNTRY_ALPHA.unique()\n",
    "\n",
    "  for ct in countries:\n",
    "      median_dict[ct] = {}\n",
    "\n",
    "  for tq in national_trust_questions:\n",
    "      for ct in countries:\n",
    "          median_dict[ct][tq] = result.loc[(result[tq] > 0) & (result.COUNTRY_ALPHA == ct), tq].median()\n",
    "  \n",
    "  # now populate the dataframe with the median values\n",
    "  for tq in national_trust_questions:\n",
    "      result[tq] = result.loc[:, [tq, \"COUNTRY_ALPHA\"]].apply(lambda row: median_dict[row[\"COUNTRY_ALPHA\"]][tq] if row[tq] <= 0 else row[tq], axis=1)\n",
    "    \n",
    "  # 2. Minmax scaling --------------------------------------------\n",
    "  scaler = MinMaxScaler()\n",
    "  scaler.fit(result.loc[:, national_trust_questions])\n",
    "  result.loc[:, national_trust_questions] = scaler.transform(result.loc[:, national_trust_questions])\n",
    "\n",
    "  # 3. Creating trust indeces by rowwise mean --------------------------------------------\n",
    "  result[\"national_distrust_index\"] = result.loc[:, national_trust_questions].mean(axis=1)\n",
    "  \n",
    "  return result\n",
    "\n",
    "tf = attach_national_distrust_index(tf)"
   ]
  },
  {
   "cell_type": "code",
   "execution_count": 4,
   "metadata": {},
   "outputs": [],
   "source": [
    "tf.rename(columns={\"S002VS\": \"wave\"}, inplace=True)"
   ]
  },
  {
   "cell_type": "code",
   "execution_count": 6,
   "metadata": {},
   "outputs": [
    {
     "data": {
      "image/png": "[encoded data removed]",
      "text/plain": [
       "<Figure size 2400x1200 with 1 Axes>"
      ]
     },
     "metadata": {},
     "output_type": "display_data"
    }
   ],
   "source": [
    "plt.figure(figsize=(8,4), dpi=300)\n",
    "plt.rcParams[\"font.family\"] = \"sans-serif\"\n",
    "flierprops = dict(marker='x', markersize=5, markeredgecolor='gray')\n",
    "sns.boxplot(data=tf, x=\"wave\", y=\"national_distrust_index\", saturation=1 , color=\"skyblue\", flierprops=flierprops, linewidth=.7,\n",
    "            linecolor=\"black\")\n",
    "plt.xlabel(\"Wave\")\n",
    "plt.ylabel(\"National Distrust Index\")\n",
    "plt.title(\"Boxplot of National Distrust by Wave\")\n",
    "plt.show()"
   ]
  },
  {
   "cell_type": "code",
   "execution_count": 41,
   "metadata": {},
   "outputs": [],
   "source": [
    "tf[[\"wave\", \"national_distrust_index\"]].to_csv(\"./data/wvs/time_series_trust.csv\")"
   ]
  }
 ],
 "metadata": {
  "kernelspec": {
   "display_name": "world_value",
   "language": "python",
   "name": "python3"
  },
  "language_info": {
   "codemirror_mode": {
    "name": "ipython",
    "version": 3
   },
   "file_extension": ".py",
   "mimetype": "text/x-python",
   "name": "python",
   "nbconvert_exporter": "python",
   "pygments_lexer": "ipython3",
   "version": "3.12.0"
  }
 },
 "nbformat": 4,
 "nbformat_minor": 2
}
