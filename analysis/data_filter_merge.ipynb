{
 "cells": [
  {
   "cell_type": "code",
   "execution_count": 1,
   "metadata": {},
   "outputs": [
    {
     "name": "stderr",
     "output_type": "stream",
     "text": [
      "/var/folders/k9/j4977wt918z9ns7wk6kqfmqm0000gn/T/ipykernel_37995/671833729.py:4: DtypeWarning: Columns (346,348,350,580,581,582,583) have mixed types. Specify dtype option on import or set low_memory=False.\n",
      "  df = pd.read_csv('/Users/carterhogan/CaseStudies/world_value_survey/analysis/data/wvs/WVS_Cross_National.csv')\n"
     ]
    }
   ],
   "source": [
    "import pandas as pd\n",
    "import os\n",
    "import openpyxl\n",
    "df = pd.read_csv('/Users/carterhogan/CaseStudies/world_value_survey/analysis/data/wvs/WVS_Cross_National.csv')"
   ]
  },
  {
   "cell_type": "code",
   "execution_count": 2,
   "metadata": {},
   "outputs": [],
   "source": [
    "# Filter for Countries in \"Western Europe\" as defined by the European Union (https://eur-lex.europa.eu/browse/eurovoc.html?params=72,7206,913#arrow_913)\n",
    "w_europe = [20, 40, 250, 276, 528, 756, 826 ]\n",
    "# Belgium, Ireland, Liechtenstein, Luxembourg, and Monaco do not have data in wave 7\n",
    "df = df[df['B_COUNTRY'].isin(w_europe)]"
   ]
  },
  {
   "cell_type": "code",
   "execution_count": 39,
   "metadata": {},
   "outputs": [],
   "source": [
    "\n",
    "# Read in the WPF Index \n",
    "os.chdir('/Users/carterhogan/CaseStudies/world_value_survey/analysis/data/additional/')\n",
    "wpf = pd.read_excel('RWB-PFI.xlsx')"
   ]
  },
  {
   "cell_type": "code",
   "execution_count": 45,
   "metadata": {},
   "outputs": [],
   "source": [
    "countries = ['AND','AUT','CHE','FRA','GBR','DEU','NLD']\n",
    "wpf = wpf[wpf['Economy ISO3'].isin(countries)]\n",
    "wpf = wpf[wpf['Indicator ID'] != 'RWB.PFI.INDEX']\n",
    "wpf = pd.concat([wpf.iloc[:, :2], wpf.iloc[:, -7:]], axis=1)\n"
   ]
  },
  {
   "cell_type": "code",
   "execution_count": 46,
   "metadata": {},
   "outputs": [],
   "source": [
    "# Select the first two columns and the last seven columns\n",
    "main_columns = wpf.iloc[:, :2]  # First two columns\n",
    "year_columns = wpf.iloc[:, -7:]  # Last seven columns\n",
    "\n",
    "# pivot the last seven columns into rows so that we can merge into broader df\n",
    "pivoted_df = pd.melt(\n",
    "    wpf, \n",
    "    id_vars=main_columns.columns,  # Columns to keep (e.g., the first two columns)\n",
    "    value_vars=year_columns.columns,  # Columns to pivot (e.g., the last seven columns)\n",
    "    var_name='Year',  # Name of the new column that will hold column names\n",
    "    value_name='wpfi_rank'  # Name of the new column that will hold the values\n",
    ")\n",
    "\n",
    "pivoted_df\n"
   ]
  },
  {
   "cell_type": "code",
   "execution_count": 47,
   "metadata": {},
   "outputs": [],
   "source": [
    "# Perform the left join on 'ISO' and 'Year'\n",
    "merged_df = pd.merge(\n",
    "    df, \n",
    "    pivoted_df, \n",
    "    how='left', \n",
    "    left_on=['B_COUNTRY_ALPHA', 'A_YEAR'], \n",
    "    right_on=['Economy ISO3', 'Year']\n",
    ")\n",
    "\n",
    "# Now we have the world press freedom index for each country for the year in which it was interviewed"
   ]
  },
  {
   "cell_type": "code",
   "execution_count": 43,
   "metadata": {},
   "outputs": [],
   "source": [
    "#Write the wave 7 data to a finalized df\n",
    "merged_df.to_csv('/Users/carterhogan/CaseStudies/world_value_survey/analysis/data/wvs/wave7.csv')\n",
    "\n"
   ]
  },
  {
   "cell_type": "code",
   "execution_count": 48,
   "metadata": {},
   "outputs": [],
   "source": [
    "# Now we need to get the data for the time series\n",
    "\n",
    "ts = pd.read_csv('/Users/carterhogan/CaseStudies/world_value_survey/analysis/data/wvs/WVS_Time_Series.csv')"
   ]
  },
  {
   "cell_type": "code",
   "execution_count": 49,
   "metadata": {},
   "outputs": [],
   "source": [
    "ts = ts[ts['COUNTRY_ALPHA']== 'DEU']\n"
   ]
  },
  {
   "cell_type": "code",
   "execution_count": 9,
   "metadata": {},
   "outputs": [
    {
     "data": {
      "text/plain": [
       "array([1997, 2006, 2013, 2018])"
      ]
     },
     "execution_count": 9,
     "metadata": {},
     "output_type": "execute_result"
    }
   ],
   "source": [
    "# Due to the limitation in years, it is hard to \n",
    "# decide cutting out 1997 for the purpose of using WPFI (thoughts?)\n",
    "ts['S020'].unique()"
   ]
  },
  {
   "cell_type": "code",
   "execution_count": 57,
   "metadata": {},
   "outputs": [],
   "source": [
    "\n",
    "\n",
    "wpf_ts = pd.read_excel('RWB-PFI.xlsx')\n",
    "\n",
    "main_columns = wpf_ts.iloc[:, :2]  # First two columns\n",
    "year_columns = wpf_ts.iloc[:, -21:]  # Last seven columns\n",
    "wpf_ts = wpf_ts[wpf_ts['Economy ISO3'].isin(countries)]\n",
    "wpf_ts = wpf_ts[wpf_ts['Indicator ID'] != 'RWB.PFI.INDEX']\n",
    "# pivot for the time series\n",
    "pivoted_wpf = pd.melt(\n",
    "    wpf_ts, \n",
    "    id_vars=main_columns.columns,  # Columns to keep (e.g., the first two columns)\n",
    "    value_vars=year_columns.columns,  # Columns to pivot (e.g., the last seven columns)\n",
    "    var_name='Year',  # Name of the new column that will hold column names\n",
    "    value_name='wpfi_rank'  # Name of the new column that will hold the values\n",
    ")\n",
    "\n"
   ]
  },
  {
   "cell_type": "code",
   "execution_count": 58,
   "metadata": {},
   "outputs": [],
   "source": [
    "# Merge the data for the time series and wpfi \n",
    "\n",
    "ts_merge = pd.merge(\n",
    "    ts, \n",
    "    pivoted_wpf, \n",
    "    how='left', \n",
    "    left_on=['COUNTRY_ALPHA', 'S020'], \n",
    "    right_on=['Economy ISO3', 'Year']\n",
    ")"
   ]
  },
  {
   "cell_type": "code",
   "execution_count": 69,
   "metadata": {},
   "outputs": [],
   "source": [
    "ts_merge = ts_merge[ts_merge['S020']!=1997]\n",
    "\n",
    "ts_merge['wpfi_rank'] = ts_merge['wpfi_rank'].replace(\".\",\"\").astype(int)"
   ]
  },
  {
   "cell_type": "code",
   "execution_count": 70,
   "metadata": {},
   "outputs": [
    {
     "data": {
      "text/plain": [
       "array([23, 17, 15])"
      ]
     },
     "execution_count": 70,
     "metadata": {},
     "output_type": "execute_result"
    }
   ],
   "source": [
    "ts_merge['wpfi_rank'].unique()"
   ]
  },
  {
   "cell_type": "code",
   "execution_count": 71,
   "metadata": {},
   "outputs": [],
   "source": [
    "\n",
    "ts_merge.to_csv('/Users/carterhogan/CaseStudies/world_value_survey/analysis/data/wvs/time_series.csv')"
   ]
  }
 ],
 "metadata": {
  "kernelspec": {
   "display_name": "world_value",
   "language": "python",
   "name": "python3"
  },
  "language_info": {
   "codemirror_mode": {
    "name": "ipython",
    "version": 3
   },
   "file_extension": ".py",
   "mimetype": "text/x-python",
   "name": "python",
   "nbconvert_exporter": "python",
   "pygments_lexer": "ipython3",
   "version": "3.12.0"
  }
 },
 "nbformat": 4,
 "nbformat_minor": 2
}
