{
 "cells": [
  {
   "cell_type": "code",
   "execution_count": null,
   "metadata": {},
   "outputs": [],
   "source": [
    "import pandas as pd\n",
    "X = pd.read_csv('/Users/carterhogan/CaseStudies/world_value_survey/analysis/data/wvs/WVS_Cross_National.csv')"
   ]
  },
  {
   "cell_type": "code",
   "execution_count": 4,
   "metadata": {},
   "outputs": [],
   "source": [
    "countries = ['AUS','CAN','DEU','NLD','USA']\n",
    "\n",
    "X = X[X['B_COUNTRY_ALPHA'].isin(countries)]"
   ]
  },
  {
   "cell_type": "code",
   "execution_count": 6,
   "metadata": {},
   "outputs": [],
   "source": [
    "trust_questions = [f\"Q{i}\" for i in range(58, 90)]\n"
   ]
  },
  {
   "cell_type": "code",
   "execution_count": 7,
   "metadata": {},
   "outputs": [],
   "source": [
    "# Trust-related questions\n",
    "trust_questions = [f\"Q{i}\" for i in range(58, 90)]\n",
    "\n",
    "# Migration-related questions\n",
    "migration_questions = [f\"Q{i}\" for i in range(121, 130)]\n",
    "\n",
    "# Political preference question\n",
    "pol_pref = [\"Q240\"]\n",
    "\n",
    "# Corruption-related questions\n",
    "corruption_questions = [f\"Q{i}\" for i in range(112, 120)]\n",
    "\n",
    "# Single questions\n",
    "other_questions = [\"Q260\", \"Q262\", \"Q263\", \"Q264\", \"Q265\"]\n",
    "\n",
    "# Happiness-related questions\n",
    "happiness_questions = [f\"Q{i}\" for i in range(46, 56)]\n",
    "\n",
    "# Security-related questions\n",
    "security_question = (\n",
    "    [f\"Q{i}\" for i in range(131, 139)] +\n",
    "    [f\"Q{i}\" for i in range(142, 144)] +\n",
    "    [f\"Q{i}\" for i in range(146, 149)]\n",
    ")\n",
    "\n",
    "# Education-related questions\n",
    "education_questions = ['Q275', 'Q277', 'Q278']\n",
    "\n",
    "# Chief wage earner question\n",
    "chief_wage_earner = ['Q285']\n",
    "\n",
    "# Income group question\n",
    "income_group = ['Q288']\n",
    "\n",
    "all_questions = income_group + chief_wage_earner + education_questions + security_question + happiness_questions + other_questions + corruption_questions + pol_pref + trust_questions + migration_questions"
   ]
  },
  {
   "cell_type": "code",
   "execution_count": 8,
   "metadata": {},
   "outputs": [],
   "source": [
    "X_filt = X[all_questions]"
   ]
  },
  {
   "cell_type": "code",
   "execution_count": 11,
   "metadata": {},
   "outputs": [
    {
     "name": "stdout",
     "output_type": "stream",
     "text": [
      "Q288     639\n",
      "Q285     433\n",
      "Q275     307\n",
      "Q277    1184\n",
      "Q278    1415\n",
      "        ... \n",
      "Q125     723\n",
      "Q126     606\n",
      "Q127     384\n",
      "Q128     569\n",
      "Q129     538\n",
      "Length: 83, dtype: int64\n"
     ]
    },
    {
     "data": {
      "text/plain": [
       "Q288     5.280992\n",
       "Q285     3.578512\n",
       "Q275     2.537190\n",
       "Q277     9.785124\n",
       "Q278    11.694215\n",
       "          ...    \n",
       "Q125     5.975207\n",
       "Q126     5.008264\n",
       "Q127     3.173554\n",
       "Q128     4.702479\n",
       "Q129     4.446281\n",
       "Length: 83, dtype: float64"
      ]
     },
     "execution_count": 11,
     "metadata": {},
     "output_type": "execute_result"
    }
   ],
   "source": [
    "int_columns = X_filt.select_dtypes(include=['int'])\n",
    "\n",
    "# Count values less than 0 in integer columns\n",
    "counts = int_columns.apply(lambda col: (col < 0).sum())\n",
    "# Display the result\n",
    "print(counts)\n",
    "\n",
    "perc = counts/12100 *100\n",
    "perc"
   ]
  },
  {
   "cell_type": "code",
   "execution_count": null,
   "metadata": {},
   "outputs": [],
   "source": [
    "X_filt"
   ]
  }
 ],
 "metadata": {
  "kernelspec": {
   "display_name": "world_value",
   "language": "python",
   "name": "python3"
  },
  "language_info": {
   "codemirror_mode": {
    "name": "ipython",
    "version": 3
   },
   "file_extension": ".py",
   "mimetype": "text/x-python",
   "name": "python",
   "nbconvert_exporter": "python",
   "pygments_lexer": "ipython3",
   "version": "3.12.0"
  }
 },
 "nbformat": 4,
 "nbformat_minor": 2
}
